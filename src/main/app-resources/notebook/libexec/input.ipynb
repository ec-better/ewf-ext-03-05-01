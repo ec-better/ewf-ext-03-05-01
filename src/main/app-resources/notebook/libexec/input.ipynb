{
 "cells": [
  {
   "cell_type": "markdown",
   "metadata": {
    "slideshow": {
     "slide_type": "skip"
    }
   },
   "source": [
    "##  ewf-ext-03-05-01 - Tropical Forest Disturbance Analysis with Sentinel-1 SLC Data"
   ]
  },
  {
   "cell_type": "markdown",
   "metadata": {},
   "source": [
    "Algorithm to detect SAR amplitude changes (b0) related to landslide events from pre- and post-earthquake Sentinel-1 IW-SLC acquisitions (slave, master)."
   ]
  },
  {
   "cell_type": "markdown",
   "metadata": {
    "slideshow": {
     "slide_type": "slide"
    }
   },
   "source": [
    "### Quick link\n",
    "\n",
    "* [Objective](#objective)\n",
    "* [Test Site](#test-site)\n",
    "* [Context](#context)\n",
    "* [Applicability](#applicability)\n",
    "* [Data](#data)\n",
    "* [Service Definition](#service)\n",
    "* [Parameter Definition](#parameter)\n",
    "* [Runtime Parameter Definition](#runtime)\n",
    "* [Workflow](#workflow)\n",
    "* [Strengths and Limitations](#strengths-limitations) \n",
    "* [License](#license)"
   ]
  },
  {
   "cell_type": "markdown",
   "metadata": {
    "slideshow": {
     "slide_type": "slide"
    }
   },
   "source": [
    "### <a name=\"objective\">Objective \n",
    "\n",
    "\n"
   ]
  },
  {
   "cell_type": "markdown",
   "metadata": {
    "slideshow": {
     "slide_type": "slide"
    }
   },
   "source": [
    "### <a name=\"data\">Data"
   ]
  },
  {
   "cell_type": "markdown",
   "metadata": {
    "slideshow": {
     "slide_type": "subslide"
    }
   },
   "source": [
    "SENTINEL data products are made available systematically and free of charge to all data users including the general public, scientific and commercial users. Radar data will be delivered within an hour of reception for Near Real-Time (NRT) emergency response, within three hours for NRT priority areas and within 24 hours for systematically archived data.\n",
    "\n",
    "All data products are distributed in the SENTINEL Standard Archive Format for Europe (SAFE) format.\n",
    "\n",
    "Data products are available in single polarisation (VV or HH) for Wave mode and dual polarisation (VV+VH or HH+HV) and single polarisation (HH or VV) for SM, IW and EW modes."
   ]
  },
  {
   "cell_type": "markdown",
   "metadata": {},
   "source": [
    "### <a name=\"service\">Service definition"
   ]
  },
  {
   "cell_type": "code",
   "execution_count": 1,
   "metadata": {
    "collapsed": true
   },
   "outputs": [],
   "source": [
    "service = dict([('title', 'ewf-ext-03-05-01 - Tropical Forest Disturbance Analysis with Sentinel-1 SLC Data'),\n",
    "                ('abstract', 'ewf-ext-03-05-01 - Tropical Forest Disturbance Analysis with Sentinel-1 SLC Data'),\n",
    "                ('id', 'ewf-ext-03-03-02')])"
   ]
  },
  {
   "cell_type": "markdown",
   "metadata": {},
   "source": [
    "### Parameter Definition "
   ]
  },
  {
   "cell_type": "markdown",
   "metadata": {},
   "source": [
    "Output file format:\n",
    "\n",
    "* BEAM-DIMAP\n",
    "* GeoTIFF-BigTIFF"
   ]
  },
  {
   "cell_type": "code",
   "execution_count": 2,
   "metadata": {},
   "outputs": [],
   "source": [
    "format = dict([('id', 'format'),\n",
    "               ('value', 'GeoTIFF-BigTIFF'),\n",
    "               ('title', 'Output file format'),\n",
    "               ('abstract', 'Output file format: BEAM-DIMAP or GeoTIFF-BigTIFF')])"
   ]
  },
  {
   "cell_type": "code",
   "execution_count": 3,
   "metadata": {},
   "outputs": [],
   "source": [
    "master = dict([('id', 'master'),\n",
    "            ('value', 'True'),\n",
    "            ('title', 'master'),\n",
    "            ('abstract', 'master')])"
   ]
  },
  {
   "cell_type": "code",
   "execution_count": 4,
   "metadata": {},
   "outputs": [],
   "source": [
    "slave = dict([('id', 'slave'),\n",
    "            ('value', 'True'),\n",
    "            ('title', 'slave'),\n",
    "            ('abstract', 'slave')])"
   ]
  },
  {
   "cell_type": "code",
   "execution_count": 5,
   "metadata": {},
   "outputs": [],
   "source": [
    "regionOfInterest = dict([('id', 'regionOfInterest'),\n",
    "                         ('value', 'POLYGON((-55.1310 -3.7144, -55.1310 -3.2571, -54.5521 -3.2571, -54.5521 -3.7144))'),\n",
    "                         ('title', 'WKT Polygon for the Region of Interest (-1 if no crop)'),\n",
    "                         ('abstract', 'Set the value of WKT Polygon')])"
   ]
  },
  {
   "cell_type": "markdown",
   "metadata": {},
   "source": [
    "### <a name=\"runtime\">Runtime parameter definition\n",
    "    \n",
    "The variable values in this section are only relevant for the basic test case. In an actual processing context, the values are replaced by those of the parameters for the process execution."
   ]
  },
  {
   "cell_type": "markdown",
   "metadata": {},
   "source": [
    "**Input identifiers**\n",
    "\n",
    "This is the Sentinel-1 stack of master and slave products' identifiers:"
   ]
  },
  {
   "cell_type": "code",
   "execution_count": 6,
   "metadata": {
    "collapsed": true
   },
   "outputs": [],
   "source": [
    "input_identifiers = ('S1A_IW_SLC__1SDV_20170113T092230_20170113T092257_014811_018214_DB60', 'S1A_IW_SLC__1SDV_20170101T092231_20170101T092258_014636_017CCA_B6F3')"
   ]
  },
  {
   "cell_type": "markdown",
   "metadata": {},
   "source": [
    "**Input references**\n",
    "\n",
    "This is the Sentinel-1 stack of catalogue references:"
   ]
  },
  {
   "cell_type": "code",
   "execution_count": 7,
   "metadata": {
    "collapsed": false,
    "slideshow": {
     "slide_type": "subslide"
    }
   },
   "outputs": [],
   "source": [
    "input_references = ('https://catalog.terradue.com/sentinel1/search?format=atom&uid=S1A_IW_SLC__1SDV_20170113T092230_20170113T092257_014811_018214_DB60','https://catalog.terradue.com/sentinel1/search?format=atom&uid=S1A_IW_SLC__1SDV_20170101T092231_20170101T092258_014636_017CCA_B6F3')"
   ]
  },
  {
   "cell_type": "markdown",
   "metadata": {
    "slideshow": {
     "slide_type": "slide"
    }
   },
   "source": [
    "**Data path**\n",
    "\n",
    "This path defines where the data is staged-in:"
   ]
  },
  {
   "cell_type": "code",
   "execution_count": 8,
   "metadata": {
    "collapsed": true
   },
   "outputs": [],
   "source": [
    "data_path = \"/workspace/mall/data\""
   ]
  },
  {
   "cell_type": "code",
   "execution_count": 9,
   "metadata": {},
   "outputs": [],
   "source": [
    "output_path = \"\""
   ]
  },
  {
   "cell_type": "markdown",
   "metadata": {},
   "source": [
    "### <a name=\"workflow\">Workflow"
   ]
  },
  {
   "cell_type": "markdown",
   "metadata": {},
   "source": [
    "#### Import the packages required for processing the data"
   ]
  },
  {
   "cell_type": "code",
   "execution_count": 10,
   "metadata": {
    "collapsed": true
   },
   "outputs": [],
   "source": [
    "from snappy import jpy\n",
    "from snappy import ProductIO\n",
    "from snappy import GPF\n",
    "from snappy import HashMap\n",
    "\n",
    "import dateutil.parser as parser\n",
    "import gc\n",
    "from datetime import datetime\n",
    "\n",
    "import cioppy\n",
    "\n",
    "import gdal\n",
    "import osr\n",
    "\n",
    "from shapely.wkt import loads\n",
    "from shapely.geometry import box\n",
    "\n",
    "import lxml.etree as etree\n",
    "import numpy as np\n",
    "import os\n",
    "\n",
    "import shutil\n",
    "\n",
    "import gdal"
   ]
  },
  {
   "cell_type": "code",
   "execution_count": 11,
   "metadata": {},
   "outputs": [],
   "source": [
    "import lxml.etree as etree\n",
    "import subprocess\n",
    "import tempfile\n",
    "import time\n",
    "import psutil\n",
    "from snappy import jpy\n",
    "from snappy import ProductIO\n",
    "from snappy import GPF\n",
    "from snappy import HashMap\n",
    "import os\n",
    "\n",
    "class GraphProcessor():\n",
    "    \n",
    "    def __init__(self):\n",
    "        \n",
    "        self.root = etree.Element('graph')\n",
    "    \n",
    "        version = etree.SubElement(self.root, 'version')\n",
    "        version.text = '1.0'\n",
    "        self.pid = None\n",
    "        self.p = None\n",
    "   \n",
    "    def view_graph(self):\n",
    "        \n",
    "        print etree.tostring(self.root , pretty_print=True)\n",
    "        \n",
    "    def add_node(self, node_id, operator, parameters, source):\n",
    "    \n",
    "        xpath_expr = '/graph/node[@id=\"%s\"]' % node_id\n",
    "\n",
    "        if len(self.root.xpath(xpath_expr)) != 0:\n",
    "\n",
    "            node_elem = self.root.xpath(xpath_expr)[0]\n",
    "            operator_elem = self.root.xpath(xpath_expr + '/operator')[0]\n",
    "            sources_elem = self.root.xpath(xpath_expr + '/sources')[0]\n",
    "            parameters_elem = self.root.xpath(xpath_expr + '/parameters')\n",
    "\n",
    "            for key, value in parameters.iteritems():\n",
    "                p_elem = self.root.xpath(xpath_expr + '/parameters/%s' % key)[0]\n",
    "                p_elem.text = value\n",
    "        else:\n",
    "\n",
    "            node_elem = etree.SubElement(self.root, 'node')\n",
    "            operator_elem = etree.SubElement(node_elem, 'operator')\n",
    "            sources_elem = etree.SubElement(node_elem, 'sources')\n",
    "\n",
    "            if isinstance(source, list):\n",
    "\n",
    "                for index, s in enumerate(source):\n",
    "                    if index == 0:  \n",
    "                        source_product_elem = etree.SubElement(sources_elem, 'sourceProduct')\n",
    "\n",
    "                    else: \n",
    "                        source_product_elem = etree.SubElement(sources_elem, 'sourceProduct.%s' % str(index))\n",
    "\n",
    "                    source_product_elem.attrib['refid'] = s\n",
    "\n",
    "            elif source != '':\n",
    "                source_product_elem = etree.SubElement(sources_elem, 'sourceProduct')\n",
    "                source_product_elem.attrib['refid'] = source\n",
    "\n",
    "            parameters_elem = etree.SubElement(node_elem, 'parameters')\n",
    "            parameters_elem.attrib['class'] = 'com.bc.ceres.binding.dom.XppDomElement'\n",
    "\n",
    "            for key, value in parameters.iteritems():\n",
    "\n",
    "                # here I have to adapt the code\n",
    "                \n",
    "                if operator == 'BandMaths':\n",
    "                    \n",
    "                    if isinstance(value, dict):\n",
    "                        \n",
    "                        parameter_elem = etree.SubElement(parameters_elem, key)\n",
    "                        \n",
    "                        for key2, value2 in value.iteritems():\n",
    "                            parameter_elem2 = etree.SubElement(parameter_elem, key2)\n",
    "                            #parameter_elem.text = value\n",
    "                            if isinstance(value2, dict):\n",
    "                                for key3, value3 in value2.iteritems():\n",
    "                                    parameter_elem3 = etree.SubElement(parameter_elem2, key3)\n",
    "                                    parameter_elem3.text = value3\n",
    "                            pass\n",
    "                    \n",
    "                    else:\n",
    "                        parameter_elem = etree.SubElement(parameters_elem, key)\n",
    "                        parameter_elem.text = value\n",
    "                else:\n",
    "                    parameter_elem = etree.SubElement(parameters_elem, key)\n",
    "                    parameter_elem.text = value\n",
    "                    \n",
    "                    \n",
    "        \n",
    "        node_elem.attrib['id'] = node_id\n",
    "\n",
    "        operator_elem.text = operator \n",
    "\n",
    "    def save_graph(self, filename):\n",
    "        \n",
    "        with open(filename, 'wb') as file:\n",
    "            file.write('<?xml version=\"1.0\" encoding=\"UTF-8\"?>\\n')\n",
    "            file.write(etree.tostring(self.root, pretty_print=True))\n",
    "     \n",
    "    def plot_graph(self):\n",
    "        \n",
    "        for node_id in self.root.xpath('/graph/node/@id'):\n",
    "            \n",
    "\n",
    "            xpath_expr = '/graph/node[@id=\"%s\"]' % node_id\n",
    "            \n",
    "            if len(self.root.xpath(xpath_expr + '/sources/sourceProduct')) != 0:\n",
    "                print(self.root.xpath(xpath_expr + '/sources/sourceProduct'))[0].attrib['refid']\n",
    "                print node_id\n",
    "            else:\n",
    "                print node_id\n",
    "        return True\n",
    "    \n",
    "    def run(self):\n",
    "        \n",
    "        fd, path = tempfile.mkstemp()\n",
    "        \n",
    "        try:\n",
    "        \n",
    "            self.save_graph(filename=path)\n",
    "            \n",
    "            #options = ['/opt/snap6/bin/gpt',\n",
    "               #'-x',\n",
    "               #'-c',\n",
    "               #'2048M',\n",
    "               #path]\n",
    "            \n",
    "            options = ['/workspace/mall/temp/snap6/bin/gpt',\n",
    "               '-x',\n",
    "               '-c',\n",
    "               '2048M',\n",
    "               path]\n",
    "\n",
    "            p = subprocess.Popen(options,\n",
    "                stdout=subprocess.PIPE, stdin=subprocess.PIPE, stderr=subprocess.PIPE)\n",
    "\n",
    "            print p.pid\n",
    "            res, err = p.communicate()\n",
    "            print res, err\n",
    "            if p.returncode != 0:\n",
    "                raise Exception('An error occurred during the execution of gpt (see log)')\n",
    "            \n",
    "        except Exception as e:\n",
    "            with open('stdout.txt', 'wb') as file:\n",
    "                file.write(res)\n",
    "                file.close()\n",
    "            with open('stderr.txt', 'wb') as file:\n",
    "                file.write(err)\n",
    "                file.close()\n",
    "            \n",
    "            raise\n",
    "        finally:\n",
    "            os.remove(path)\n",
    "        \n",
    "def get_snap_parameters(operator):\n",
    "    \n",
    "    op_spi = GPF.getDefaultInstance().getOperatorSpiRegistry().getOperatorSpi(operator)\n",
    "\n",
    "    op_params = op_spi.getOperatorDescriptor().getParameterDescriptors()\n",
    "\n",
    "    return op_params"
   ]
  },
  {
   "cell_type": "markdown",
   "metadata": {},
   "source": [
    "#### Auxiliary methods"
   ]
  },
  {
   "cell_type": "code",
   "execution_count": 12,
   "metadata": {},
   "outputs": [],
   "source": [
    "def crop_image(input_image, polygon_wkt, output_path):\n",
    "    \n",
    "    dataset = gdal.Open(input_image)\n",
    "\n",
    "    polygon_ogr = ogr.CreateGeometryFromWkt(polygon_wkt)\n",
    "    envelope = polygon_ogr.GetEnvelope()\n",
    "    bounds = [envelope[0], envelope[3], envelope[1], envelope[2]]         \n",
    "    print bounds\n",
    "    no_data = dataset.GetRasterBand(1).GetNoDataValue()\n",
    "    gdal.Translate(output_path, dataset, outputType=gdal.GDT_Float32, projWin=bounds, projWinSRS='EPSG:4326', noData=no_data)\n",
    "\n",
    "    dataset = None"
   ]
  },
  {
   "cell_type": "markdown",
   "metadata": {},
   "source": [
    "#### 0. Get S-1 metadata"
   ]
  },
  {
   "cell_type": "code",
   "execution_count": 13,
   "metadata": {},
   "outputs": [],
   "source": [
    "ciop = cioppy.Cioppy()\n",
    "\n",
    "search = ciop.search(end_point=input_references[0],\n",
    "                     params=[],\n",
    "                     output_fields='enclosure,identifier,startdate,enddate,wkt,orbitNumber,orbitDirection,swathIdentifier,wrsLongitudeGrid',\n",
    "                     model='EOP') \n",
    "\n",
    "search2 = ciop.search(end_point=input_references[1],\n",
    "                     params=[],\n",
    "                     output_fields='enclosure,identifier,startdate,enddate,wkt,orbitNumber,orbitDirection,swathIdentifier,wrsLongitudeGrid',\n",
    "                     model='EOP')\n",
    "\n",
    "# slave image - always the post-event\n",
    "input_identifiers_slv_mst = []\n",
    "\n",
    "if (search[0]['startdate'] < search2[0]['startdate']):\n",
    "    \n",
    "    start_date = search[0]['startdate']\n",
    "    \n",
    "    input_identifiers_slv_mst.append(input_identifiers[1])\n",
    "    input_identifiers_slv_mst.append(input_identifiers[0])\n",
    "    \n",
    "    mst_date_str = parser.parse(search[0]['startdate']).strftime('%d%b%Y')\n",
    "    slv_date_str = parser.parse(search2[0]['startdate']).strftime('%d%b%Y')\n",
    "      \n",
    "else:\n",
    "    \n",
    "    start_date = search2[0]['startdate']\n",
    "    \n",
    "    input_identifiers_slv_mst.append(input_identifiers[0])\n",
    "    input_identifiers_slv_mst.append(input_identifiers[1])\n",
    "    \n",
    "    slv_date_str = parser.parse(search[0]['startdate']).strftime('%d%b%Y')\n",
    "    mst_date_str = parser.parse(search2[0]['startdate']).strftime('%d%b%Y')\n",
    "\n",
    "if (search[0]['enddate'] > search2[0]['enddate']):\n",
    "    end_date = search[0]['enddate']\n",
    "else:\n",
    "    end_date = search2[0]['enddate']"
   ]
  },
  {
   "cell_type": "markdown",
   "metadata": {},
   "source": [
    "#### 1. Slave image pre-processing"
   ]
  },
  {
   "cell_type": "code",
   "execution_count": 14,
   "metadata": {},
   "outputs": [],
   "source": [
    "temp_folder = 'temp'\n",
    "\n",
    "if not os.path.isdir(temp_folder):\n",
    "    os.mkdir(temp_folder)"
   ]
  },
  {
   "cell_type": "code",
   "execution_count": 15,
   "metadata": {},
   "outputs": [],
   "source": [
    "mygraph = GraphProcessor()"
   ]
  },
  {
   "cell_type": "markdown",
   "metadata": {},
   "source": [
    "##### 1.1. Read s-1 product (slave)"
   ]
  },
  {
   "cell_type": "code",
   "execution_count": 16,
   "metadata": {},
   "outputs": [
    {
     "name": "stdout",
     "output_type": "stream",
     "text": [
      "{'formatName': None, 'file': '/workspace/mall/data/S1A_IW_SLC__1SDV_20170113T092230_20170113T092257_014811_018214_DB60/S1A_IW_SLC__1SDV_20170113T092230_20170113T092257_014811_018214_DB60.SAFE/manifest.safe'}\n"
     ]
    }
   ],
   "source": [
    "operator = 'Read'\n",
    "\n",
    "index = 0\n",
    "identifier = input_identifiers_slv_mst[index]\n",
    "    \n",
    "parameters = dict()\n",
    "\n",
    "for param in get_snap_parameters(operator):\n",
    "    \n",
    "    if param.getName() == 'file':\n",
    "        parameters[param.getName()] = os.path.join(data_path, identifier, identifier + '.SAFE', 'manifest.safe')    \n",
    "    else:\n",
    "        parameters[param.getName()] = param.getDefaultValue()\n",
    "        \n",
    "node_id = 'Read(%s)' % index\n",
    "    \n",
    "read_node = node_id\n",
    "    \n",
    "print(parameters)\n",
    "    \n",
    "mygraph.add_node(node_id, 'Read', parameters, '')"
   ]
  },
  {
   "cell_type": "code",
   "execution_count": 17,
   "metadata": {},
   "outputs": [
    {
     "name": "stdout",
     "output_type": "stream",
     "text": [
      "<graph>\n",
      "  <version>1.0</version>\n",
      "  <node id=\"Read(0)\">\n",
      "    <operator>Read</operator>\n",
      "    <sources/>\n",
      "    <parameters class=\"com.bc.ceres.binding.dom.XppDomElement\">\n",
      "      <formatName/>\n",
      "      <file>/workspace/mall/data/S1A_IW_SLC__1SDV_20170113T092230_20170113T092257_014811_018214_DB60/S1A_IW_SLC__1SDV_20170113T092230_20170113T092257_014811_018214_DB60.SAFE/manifest.safe</file>\n",
      "    </parameters>\n",
      "  </node>\n",
      "</graph>\n",
      "\n"
     ]
    }
   ],
   "source": [
    "mygraph.view_graph()"
   ]
  },
  {
   "cell_type": "markdown",
   "metadata": {},
   "source": [
    "##### 1.2. Apply orbit file"
   ]
  },
  {
   "cell_type": "code",
   "execution_count": 18,
   "metadata": {},
   "outputs": [
    {
     "name": "stdout",
     "output_type": "stream",
     "text": [
      "('orbitType', 'Sentinel Precise (Auto Download)')\n",
      "('polyDegree', '3')\n",
      "('continueOnFail', 'false')\n"
     ]
    }
   ],
   "source": [
    "operator = 'Apply-Orbit-File'\n",
    "\n",
    "parameters = dict()\n",
    "\n",
    "for param in get_snap_parameters(operator):\n",
    "    \n",
    "    print(param.getName(), param.getDefaultValue())\n",
    "    \n",
    "    parameters[param.getName()] = param.getDefaultValue()\n"
   ]
  },
  {
   "cell_type": "code",
   "execution_count": 19,
   "metadata": {},
   "outputs": [],
   "source": [
    "index = 0\n",
    "source_node = read_node\n",
    "    \n",
    "node_id = 'Apply-Orbit-File(%s)' % index\n",
    "    \n",
    "orbit_node = node_id\n",
    "    \n",
    "mygraph.add_node(node_id, 'Apply-Orbit-File', parameters, source_node)\n"
   ]
  },
  {
   "cell_type": "code",
   "execution_count": 20,
   "metadata": {},
   "outputs": [
    {
     "name": "stdout",
     "output_type": "stream",
     "text": [
      "<graph>\n",
      "  <version>1.0</version>\n",
      "  <node id=\"Read(0)\">\n",
      "    <operator>Read</operator>\n",
      "    <sources/>\n",
      "    <parameters class=\"com.bc.ceres.binding.dom.XppDomElement\">\n",
      "      <formatName/>\n",
      "      <file>/workspace/mall/data/S1A_IW_SLC__1SDV_20170113T092230_20170113T092257_014811_018214_DB60/S1A_IW_SLC__1SDV_20170113T092230_20170113T092257_014811_018214_DB60.SAFE/manifest.safe</file>\n",
      "    </parameters>\n",
      "  </node>\n",
      "  <node id=\"Apply-Orbit-File(0)\">\n",
      "    <operator>Apply-Orbit-File</operator>\n",
      "    <sources>\n",
      "      <sourceProduct refid=\"Read(0)\"/>\n",
      "    </sources>\n",
      "    <parameters class=\"com.bc.ceres.binding.dom.XppDomElement\">\n",
      "      <polyDegree>3</polyDegree>\n",
      "      <orbitType>Sentinel Precise (Auto Download)</orbitType>\n",
      "      <continueOnFail>false</continueOnFail>\n",
      "    </parameters>\n",
      "  </node>\n",
      "</graph>\n",
      "\n"
     ]
    }
   ],
   "source": [
    "mygraph.view_graph()"
   ]
  },
  {
   "cell_type": "markdown",
   "metadata": {},
   "source": [
    "##### 1.3. TOPSAR split"
   ]
  },
  {
   "cell_type": "code",
   "execution_count": 21,
   "metadata": {},
   "outputs": [
    {
     "name": "stdout",
     "output_type": "stream",
     "text": [
      "('subswath', None)\n",
      "('selectedPolarisations', None)\n",
      "('firstBurstIndex', '1')\n",
      "('lastBurstIndex', '9999')\n",
      "('wktAoi', None)\n"
     ]
    }
   ],
   "source": [
    "operator = 'TOPSAR-Split'\n",
    "\n",
    "parameters = dict()\n",
    "\n",
    "for param in get_snap_parameters(operator):\n",
    "    \n",
    "    print(param.getName(), param.getDefaultValue())\n",
    "    \n",
    "    parameters[param.getName()] = param.getDefaultValue()"
   ]
  },
  {
   "cell_type": "code",
   "execution_count": 22,
   "metadata": {},
   "outputs": [],
   "source": [
    "slave_split_nodes = []\n",
    "\n",
    "index_node = 0\n",
    "source_node = orbit_node\n",
    "\n",
    "for index, subswath in enumerate(['IW1', 'IW2', 'IW3']):  \n",
    "    \n",
    "    parameters['subswath'] =  subswath\n",
    "    parameters['selectedPolarisations'] = 'VV'\n",
    "\n",
    "    node_id = 'TOPSAR-Split(%s)' % str(index)\n",
    "    \n",
    "    \n",
    "    slave_split_nodes.append(node_id)\n",
    "\n",
    "    \n",
    "    mygraph.add_node(node_id, operator, parameters, source_node)"
   ]
  },
  {
   "cell_type": "code",
   "execution_count": 23,
   "metadata": {},
   "outputs": [
    {
     "name": "stdout",
     "output_type": "stream",
     "text": [
      "<graph>\n",
      "  <version>1.0</version>\n",
      "  <node id=\"Read(0)\">\n",
      "    <operator>Read</operator>\n",
      "    <sources/>\n",
      "    <parameters class=\"com.bc.ceres.binding.dom.XppDomElement\">\n",
      "      <formatName/>\n",
      "      <file>/workspace/mall/data/S1A_IW_SLC__1SDV_20170113T092230_20170113T092257_014811_018214_DB60/S1A_IW_SLC__1SDV_20170113T092230_20170113T092257_014811_018214_DB60.SAFE/manifest.safe</file>\n",
      "    </parameters>\n",
      "  </node>\n",
      "  <node id=\"Apply-Orbit-File(0)\">\n",
      "    <operator>Apply-Orbit-File</operator>\n",
      "    <sources>\n",
      "      <sourceProduct refid=\"Read(0)\"/>\n",
      "    </sources>\n",
      "    <parameters class=\"com.bc.ceres.binding.dom.XppDomElement\">\n",
      "      <polyDegree>3</polyDegree>\n",
      "      <orbitType>Sentinel Precise (Auto Download)</orbitType>\n",
      "      <continueOnFail>false</continueOnFail>\n",
      "    </parameters>\n",
      "  </node>\n",
      "  <node id=\"TOPSAR-Split(0)\">\n",
      "    <operator>TOPSAR-Split</operator>\n",
      "    <sources>\n",
      "      <sourceProduct refid=\"Apply-Orbit-File(0)\"/>\n",
      "    </sources>\n",
      "    <parameters class=\"com.bc.ceres.binding.dom.XppDomElement\">\n",
      "      <lastBurstIndex>9999</lastBurstIndex>\n",
      "      <subswath>IW1</subswath>\n",
      "      <selectedPolarisations>VV</selectedPolarisations>\n",
      "      <wktAoi/>\n",
      "      <firstBurstIndex>1</firstBurstIndex>\n",
      "    </parameters>\n",
      "  </node>\n",
      "  <node id=\"TOPSAR-Split(1)\">\n",
      "    <operator>TOPSAR-Split</operator>\n",
      "    <sources>\n",
      "      <sourceProduct refid=\"Apply-Orbit-File(0)\"/>\n",
      "    </sources>\n",
      "    <parameters class=\"com.bc.ceres.binding.dom.XppDomElement\">\n",
      "      <lastBurstIndex>9999</lastBurstIndex>\n",
      "      <subswath>IW2</subswath>\n",
      "      <selectedPolarisations>VV</selectedPolarisations>\n",
      "      <wktAoi/>\n",
      "      <firstBurstIndex>1</firstBurstIndex>\n",
      "    </parameters>\n",
      "  </node>\n",
      "  <node id=\"TOPSAR-Split(2)\">\n",
      "    <operator>TOPSAR-Split</operator>\n",
      "    <sources>\n",
      "      <sourceProduct refid=\"Apply-Orbit-File(0)\"/>\n",
      "    </sources>\n",
      "    <parameters class=\"com.bc.ceres.binding.dom.XppDomElement\">\n",
      "      <lastBurstIndex>9999</lastBurstIndex>\n",
      "      <subswath>IW3</subswath>\n",
      "      <selectedPolarisations>VV</selectedPolarisations>\n",
      "      <wktAoi/>\n",
      "      <firstBurstIndex>1</firstBurstIndex>\n",
      "    </parameters>\n",
      "  </node>\n",
      "</graph>\n",
      "\n"
     ]
    }
   ],
   "source": [
    "mygraph.view_graph()"
   ]
  },
  {
   "cell_type": "markdown",
   "metadata": {},
   "source": [
    "##### 1.4. Write"
   ]
  },
  {
   "cell_type": "code",
   "execution_count": 24,
   "metadata": {},
   "outputs": [
    {
     "name": "stdout",
     "output_type": "stream",
     "text": [
      "('file', 'temp/temp_slave_0')\n",
      "Write(0)\n",
      "TOPSAR-Split(0)\n",
      "('formatName', 'BEAM-DIMAP')\n",
      "Write(0)\n",
      "TOPSAR-Split(0)\n",
      "('deleteOutputOnFailure', 'true')\n",
      "Write(0)\n",
      "TOPSAR-Split(0)\n",
      "('writeEntireTileRows', 'true')\n",
      "Write(0)\n",
      "TOPSAR-Split(0)\n",
      "('clearCacheAfterRowWrite', 'false')\n",
      "Write(0)\n",
      "TOPSAR-Split(0)\n",
      "('file', 'temp/temp_slave_1')\n",
      "Write(1)\n",
      "TOPSAR-Split(1)\n",
      "('formatName', 'BEAM-DIMAP')\n",
      "Write(1)\n",
      "TOPSAR-Split(1)\n",
      "('deleteOutputOnFailure', 'true')\n",
      "Write(1)\n",
      "TOPSAR-Split(1)\n",
      "('writeEntireTileRows', 'true')\n",
      "Write(1)\n",
      "TOPSAR-Split(1)\n",
      "('clearCacheAfterRowWrite', 'false')\n",
      "Write(1)\n",
      "TOPSAR-Split(1)\n",
      "('file', 'temp/temp_slave_2')\n",
      "Write(2)\n",
      "TOPSAR-Split(2)\n",
      "('formatName', 'BEAM-DIMAP')\n",
      "Write(2)\n",
      "TOPSAR-Split(2)\n",
      "('deleteOutputOnFailure', 'true')\n",
      "Write(2)\n",
      "TOPSAR-Split(2)\n",
      "('writeEntireTileRows', 'true')\n",
      "Write(2)\n",
      "TOPSAR-Split(2)\n",
      "('clearCacheAfterRowWrite', 'false')\n",
      "Write(2)\n",
      "TOPSAR-Split(2)\n"
     ]
    }
   ],
   "source": [
    "operator = 'Write'\n",
    "\n",
    "params_list_slave = []\n",
    "\n",
    "for index, slave_split_node in enumerate(slave_split_nodes):\n",
    "    parameters = dict()\n",
    "    \n",
    "    output_name_slave = os.path.join(temp_folder, 'temp_slave_%s' % index)\n",
    "    \n",
    "    node_id = 'Write(%s)' % index\n",
    "    \n",
    "    source_node = slave_split_node\n",
    "\n",
    "    for param in get_snap_parameters(operator):\n",
    "\n",
    "        if param.getName() == 'file':\n",
    "\n",
    "            param_value = output_name_slave\n",
    "\n",
    "        elif param.getName() == 'formatName':\n",
    "\n",
    "            param_value = 'BEAM-DIMAP'\n",
    "\n",
    "        else:\n",
    "\n",
    "            param_value = param.getDefaultValue()\n",
    "\n",
    "\n",
    "        print (param.getName(), param_value)\n",
    "\n",
    "        parameters[param.getName()] = param_value\n",
    "        \n",
    "\n",
    "        print(node_id)\n",
    "\n",
    "        print(source_node)\n",
    "        \n",
    "    params_list_slave.append(parameters)"
   ]
  },
  {
   "cell_type": "code",
   "execution_count": 25,
   "metadata": {},
   "outputs": [
    {
     "name": "stdout",
     "output_type": "stream",
     "text": [
      "Write(0)\n",
      "TOPSAR-Split(0)\n",
      "Write(1)\n",
      "TOPSAR-Split(1)\n",
      "Write(2)\n",
      "TOPSAR-Split(2)\n"
     ]
    }
   ],
   "source": [
    "slave_tr_nodes = []\n",
    "\n",
    "for index, slave_split_node in enumerate(slave_split_nodes):\n",
    "    \n",
    "    node_id = 'Write(%s)' % index\n",
    "    \n",
    "    source_node = slave_split_node\n",
    "    \n",
    "    mygraph.add_node(node_id, operator, params_list_slave[index], source_node)\n",
    "    \n",
    "    slave_tr_nodes.append(node_id)\n",
    "      \n",
    "    print(node_id)\n",
    "    \n",
    "    print(source_node)"
   ]
  },
  {
   "cell_type": "code",
   "execution_count": 26,
   "metadata": {},
   "outputs": [
    {
     "name": "stdout",
     "output_type": "stream",
     "text": [
      "<graph>\n",
      "  <version>1.0</version>\n",
      "  <node id=\"Read(0)\">\n",
      "    <operator>Read</operator>\n",
      "    <sources/>\n",
      "    <parameters class=\"com.bc.ceres.binding.dom.XppDomElement\">\n",
      "      <formatName/>\n",
      "      <file>/workspace/mall/data/S1A_IW_SLC__1SDV_20170113T092230_20170113T092257_014811_018214_DB60/S1A_IW_SLC__1SDV_20170113T092230_20170113T092257_014811_018214_DB60.SAFE/manifest.safe</file>\n",
      "    </parameters>\n",
      "  </node>\n",
      "  <node id=\"Apply-Orbit-File(0)\">\n",
      "    <operator>Apply-Orbit-File</operator>\n",
      "    <sources>\n",
      "      <sourceProduct refid=\"Read(0)\"/>\n",
      "    </sources>\n",
      "    <parameters class=\"com.bc.ceres.binding.dom.XppDomElement\">\n",
      "      <polyDegree>3</polyDegree>\n",
      "      <orbitType>Sentinel Precise (Auto Download)</orbitType>\n",
      "      <continueOnFail>false</continueOnFail>\n",
      "    </parameters>\n",
      "  </node>\n",
      "  <node id=\"TOPSAR-Split(0)\">\n",
      "    <operator>TOPSAR-Split</operator>\n",
      "    <sources>\n",
      "      <sourceProduct refid=\"Apply-Orbit-File(0)\"/>\n",
      "    </sources>\n",
      "    <parameters class=\"com.bc.ceres.binding.dom.XppDomElement\">\n",
      "      <lastBurstIndex>9999</lastBurstIndex>\n",
      "      <subswath>IW1</subswath>\n",
      "      <selectedPolarisations>VV</selectedPolarisations>\n",
      "      <wktAoi/>\n",
      "      <firstBurstIndex>1</firstBurstIndex>\n",
      "    </parameters>\n",
      "  </node>\n",
      "  <node id=\"TOPSAR-Split(1)\">\n",
      "    <operator>TOPSAR-Split</operator>\n",
      "    <sources>\n",
      "      <sourceProduct refid=\"Apply-Orbit-File(0)\"/>\n",
      "    </sources>\n",
      "    <parameters class=\"com.bc.ceres.binding.dom.XppDomElement\">\n",
      "      <lastBurstIndex>9999</lastBurstIndex>\n",
      "      <subswath>IW2</subswath>\n",
      "      <selectedPolarisations>VV</selectedPolarisations>\n",
      "      <wktAoi/>\n",
      "      <firstBurstIndex>1</firstBurstIndex>\n",
      "    </parameters>\n",
      "  </node>\n",
      "  <node id=\"TOPSAR-Split(2)\">\n",
      "    <operator>TOPSAR-Split</operator>\n",
      "    <sources>\n",
      "      <sourceProduct refid=\"Apply-Orbit-File(0)\"/>\n",
      "    </sources>\n",
      "    <parameters class=\"com.bc.ceres.binding.dom.XppDomElement\">\n",
      "      <lastBurstIndex>9999</lastBurstIndex>\n",
      "      <subswath>IW3</subswath>\n",
      "      <selectedPolarisations>VV</selectedPolarisations>\n",
      "      <wktAoi/>\n",
      "      <firstBurstIndex>1</firstBurstIndex>\n",
      "    </parameters>\n",
      "  </node>\n",
      "  <node id=\"Write(0)\">\n",
      "    <operator>Write</operator>\n",
      "    <sources>\n",
      "      <sourceProduct refid=\"TOPSAR-Split(0)\"/>\n",
      "    </sources>\n",
      "    <parameters class=\"com.bc.ceres.binding.dom.XppDomElement\">\n",
      "      <deleteOutputOnFailure>true</deleteOutputOnFailure>\n",
      "      <clearCacheAfterRowWrite>false</clearCacheAfterRowWrite>\n",
      "      <formatName>BEAM-DIMAP</formatName>\n",
      "      <writeEntireTileRows>true</writeEntireTileRows>\n",
      "      <file>temp/temp_slave_0</file>\n",
      "    </parameters>\n",
      "  </node>\n",
      "  <node id=\"Write(1)\">\n",
      "    <operator>Write</operator>\n",
      "    <sources>\n",
      "      <sourceProduct refid=\"TOPSAR-Split(1)\"/>\n",
      "    </sources>\n",
      "    <parameters class=\"com.bc.ceres.binding.dom.XppDomElement\">\n",
      "      <deleteOutputOnFailure>true</deleteOutputOnFailure>\n",
      "      <clearCacheAfterRowWrite>false</clearCacheAfterRowWrite>\n",
      "      <formatName>BEAM-DIMAP</formatName>\n",
      "      <writeEntireTileRows>true</writeEntireTileRows>\n",
      "      <file>temp/temp_slave_1</file>\n",
      "    </parameters>\n",
      "  </node>\n",
      "  <node id=\"Write(2)\">\n",
      "    <operator>Write</operator>\n",
      "    <sources>\n",
      "      <sourceProduct refid=\"TOPSAR-Split(2)\"/>\n",
      "    </sources>\n",
      "    <parameters class=\"com.bc.ceres.binding.dom.XppDomElement\">\n",
      "      <deleteOutputOnFailure>true</deleteOutputOnFailure>\n",
      "      <clearCacheAfterRowWrite>false</clearCacheAfterRowWrite>\n",
      "      <formatName>BEAM-DIMAP</formatName>\n",
      "      <writeEntireTileRows>true</writeEntireTileRows>\n",
      "      <file>temp/temp_slave_2</file>\n",
      "    </parameters>\n",
      "  </node>\n",
      "</graph>\n",
      "\n"
     ]
    }
   ],
   "source": [
    "mygraph.view_graph()"
   ]
  },
  {
   "cell_type": "markdown",
   "metadata": {},
   "source": [
    "##### 1.10. Run"
   ]
  },
  {
   "cell_type": "code",
   "execution_count": 27,
   "metadata": {},
   "outputs": [
    {
     "name": "stdout",
     "output_type": "stream",
     "text": [
      "1775\n",
      "Executing processing graph\n",
      "....10%....20%....30%....40%....50%....60%....70%....80%....90% done.\n",
      "INFO: org.esa.snap.core.gpf.operators.tooladapter.ToolAdapterIO: Initializing external tool adapters\n",
      "SEVERE: org.esa.s2tbx.dataio.gdal.activator.GDALDistributionInstaller: The environment variable LD_LIBRARY_PATH is not set. It must contain the current folder '.'.\n",
      "INFO: org.hsqldb.persist.Logger: dataFileCache open start\n",
      "\n"
     ]
    }
   ],
   "source": [
    "mygraph.run()"
   ]
  },
  {
   "cell_type": "markdown",
   "metadata": {},
   "source": [
    "#### 2. Master pre-processing"
   ]
  },
  {
   "cell_type": "code",
   "execution_count": 28,
   "metadata": {},
   "outputs": [],
   "source": [
    "mygraph = GraphProcessor()"
   ]
  },
  {
   "cell_type": "markdown",
   "metadata": {},
   "source": [
    "##### 2.1. Read s-1 product (master)"
   ]
  },
  {
   "cell_type": "code",
   "execution_count": 29,
   "metadata": {},
   "outputs": [
    {
     "name": "stdout",
     "output_type": "stream",
     "text": [
      "{'formatName': None, 'file': '/workspace/mall/data/S1A_IW_SLC__1SDV_20170101T092231_20170101T092258_014636_017CCA_B6F3/S1A_IW_SLC__1SDV_20170101T092231_20170101T092258_014636_017CCA_B6F3.SAFE/manifest.safe'}\n"
     ]
    }
   ],
   "source": [
    "operator = 'Read'\n",
    "\n",
    "index = 1\n",
    "identifier = input_identifiers_slv_mst[index]\n",
    "    \n",
    "parameters = dict()\n",
    "\n",
    "for param in get_snap_parameters(operator):\n",
    "    \n",
    "    if param.getName() == 'file':\n",
    "        parameters[param.getName()] = os.path.join(data_path, identifier, identifier + '.SAFE', 'manifest.safe')    \n",
    "    else:\n",
    "        parameters[param.getName()] = param.getDefaultValue()\n",
    "        \n",
    "node_id = 'Read(%s)' % index\n",
    "    \n",
    "read_node = node_id\n",
    "    \n",
    "print(parameters)\n",
    "    \n",
    "mygraph.add_node(node_id, 'Read', parameters, '')"
   ]
  },
  {
   "cell_type": "code",
   "execution_count": 30,
   "metadata": {},
   "outputs": [
    {
     "name": "stdout",
     "output_type": "stream",
     "text": [
      "<graph>\n",
      "  <version>1.0</version>\n",
      "  <node id=\"Read(1)\">\n",
      "    <operator>Read</operator>\n",
      "    <sources/>\n",
      "    <parameters class=\"com.bc.ceres.binding.dom.XppDomElement\">\n",
      "      <formatName/>\n",
      "      <file>/workspace/mall/data/S1A_IW_SLC__1SDV_20170101T092231_20170101T092258_014636_017CCA_B6F3/S1A_IW_SLC__1SDV_20170101T092231_20170101T092258_014636_017CCA_B6F3.SAFE/manifest.safe</file>\n",
      "    </parameters>\n",
      "  </node>\n",
      "</graph>\n",
      "\n"
     ]
    }
   ],
   "source": [
    "mygraph.view_graph()"
   ]
  },
  {
   "cell_type": "markdown",
   "metadata": {},
   "source": [
    "##### 2.2. Apply orbit file"
   ]
  },
  {
   "cell_type": "code",
   "execution_count": 31,
   "metadata": {},
   "outputs": [
    {
     "name": "stdout",
     "output_type": "stream",
     "text": [
      "('orbitType', 'Sentinel Precise (Auto Download)')\n",
      "('polyDegree', '3')\n",
      "('continueOnFail', 'false')\n"
     ]
    }
   ],
   "source": [
    "operator = 'Apply-Orbit-File'\n",
    "\n",
    "parameters = dict()\n",
    "\n",
    "for param in get_snap_parameters(operator):\n",
    "    \n",
    "    print(param.getName(), param.getDefaultValue())\n",
    "    \n",
    "    parameters[param.getName()] = param.getDefaultValue()"
   ]
  },
  {
   "cell_type": "code",
   "execution_count": 32,
   "metadata": {},
   "outputs": [],
   "source": [
    "index = 1\n",
    "source_node = read_node\n",
    "    \n",
    "node_id = 'Apply-Orbit-File(%s)' % index\n",
    "    \n",
    "orbit_node = node_id\n",
    "    \n",
    "mygraph.add_node(node_id, 'Apply-Orbit-File', parameters, source_node)"
   ]
  },
  {
   "cell_type": "code",
   "execution_count": 33,
   "metadata": {},
   "outputs": [
    {
     "name": "stdout",
     "output_type": "stream",
     "text": [
      "<graph>\n",
      "  <version>1.0</version>\n",
      "  <node id=\"Read(1)\">\n",
      "    <operator>Read</operator>\n",
      "    <sources/>\n",
      "    <parameters class=\"com.bc.ceres.binding.dom.XppDomElement\">\n",
      "      <formatName/>\n",
      "      <file>/workspace/mall/data/S1A_IW_SLC__1SDV_20170101T092231_20170101T092258_014636_017CCA_B6F3/S1A_IW_SLC__1SDV_20170101T092231_20170101T092258_014636_017CCA_B6F3.SAFE/manifest.safe</file>\n",
      "    </parameters>\n",
      "  </node>\n",
      "  <node id=\"Apply-Orbit-File(1)\">\n",
      "    <operator>Apply-Orbit-File</operator>\n",
      "    <sources>\n",
      "      <sourceProduct refid=\"Read(1)\"/>\n",
      "    </sources>\n",
      "    <parameters class=\"com.bc.ceres.binding.dom.XppDomElement\">\n",
      "      <polyDegree>3</polyDegree>\n",
      "      <orbitType>Sentinel Precise (Auto Download)</orbitType>\n",
      "      <continueOnFail>false</continueOnFail>\n",
      "    </parameters>\n",
      "  </node>\n",
      "</graph>\n",
      "\n"
     ]
    }
   ],
   "source": [
    "mygraph.view_graph()"
   ]
  },
  {
   "cell_type": "markdown",
   "metadata": {},
   "source": [
    "##### 2.3. TOPSAR split"
   ]
  },
  {
   "cell_type": "code",
   "execution_count": 34,
   "metadata": {},
   "outputs": [
    {
     "name": "stdout",
     "output_type": "stream",
     "text": [
      "('subswath', None)\n",
      "('selectedPolarisations', None)\n",
      "('firstBurstIndex', '1')\n",
      "('lastBurstIndex', '9999')\n",
      "('wktAoi', None)\n"
     ]
    }
   ],
   "source": [
    "operator = 'TOPSAR-Split'\n",
    "\n",
    "parameters = dict()\n",
    "\n",
    "for param in get_snap_parameters(operator):\n",
    "    \n",
    "    print(param.getName(), param.getDefaultValue())\n",
    "    \n",
    "    parameters[param.getName()] = param.getDefaultValue()"
   ]
  },
  {
   "cell_type": "code",
   "execution_count": 35,
   "metadata": {},
   "outputs": [],
   "source": [
    "slave_split_nodes = []\n",
    "\n",
    "index_node = 1\n",
    "source_node = orbit_node\n",
    "\n",
    "for index, subswath in enumerate(['IW1', 'IW2', 'IW3']):  \n",
    "    \n",
    "    parameters['subswath'] =  subswath\n",
    "    parameters['selectedPolarisations'] = 'VV'\n",
    "\n",
    "    node_id = 'TOPSAR-Split(%s)' % str(index)\n",
    "    \n",
    "    \n",
    "    slave_split_nodes.append(node_id)\n",
    "\n",
    "    \n",
    "    mygraph.add_node(node_id, operator, parameters, source_node)"
   ]
  },
  {
   "cell_type": "code",
   "execution_count": 36,
   "metadata": {},
   "outputs": [
    {
     "name": "stdout",
     "output_type": "stream",
     "text": [
      "<graph>\n",
      "  <version>1.0</version>\n",
      "  <node id=\"Read(1)\">\n",
      "    <operator>Read</operator>\n",
      "    <sources/>\n",
      "    <parameters class=\"com.bc.ceres.binding.dom.XppDomElement\">\n",
      "      <formatName/>\n",
      "      <file>/workspace/mall/data/S1A_IW_SLC__1SDV_20170101T092231_20170101T092258_014636_017CCA_B6F3/S1A_IW_SLC__1SDV_20170101T092231_20170101T092258_014636_017CCA_B6F3.SAFE/manifest.safe</file>\n",
      "    </parameters>\n",
      "  </node>\n",
      "  <node id=\"Apply-Orbit-File(1)\">\n",
      "    <operator>Apply-Orbit-File</operator>\n",
      "    <sources>\n",
      "      <sourceProduct refid=\"Read(1)\"/>\n",
      "    </sources>\n",
      "    <parameters class=\"com.bc.ceres.binding.dom.XppDomElement\">\n",
      "      <polyDegree>3</polyDegree>\n",
      "      <orbitType>Sentinel Precise (Auto Download)</orbitType>\n",
      "      <continueOnFail>false</continueOnFail>\n",
      "    </parameters>\n",
      "  </node>\n",
      "  <node id=\"TOPSAR-Split(0)\">\n",
      "    <operator>TOPSAR-Split</operator>\n",
      "    <sources>\n",
      "      <sourceProduct refid=\"Apply-Orbit-File(1)\"/>\n",
      "    </sources>\n",
      "    <parameters class=\"com.bc.ceres.binding.dom.XppDomElement\">\n",
      "      <lastBurstIndex>9999</lastBurstIndex>\n",
      "      <subswath>IW1</subswath>\n",
      "      <selectedPolarisations>VV</selectedPolarisations>\n",
      "      <wktAoi/>\n",
      "      <firstBurstIndex>1</firstBurstIndex>\n",
      "    </parameters>\n",
      "  </node>\n",
      "  <node id=\"TOPSAR-Split(1)\">\n",
      "    <operator>TOPSAR-Split</operator>\n",
      "    <sources>\n",
      "      <sourceProduct refid=\"Apply-Orbit-File(1)\"/>\n",
      "    </sources>\n",
      "    <parameters class=\"com.bc.ceres.binding.dom.XppDomElement\">\n",
      "      <lastBurstIndex>9999</lastBurstIndex>\n",
      "      <subswath>IW2</subswath>\n",
      "      <selectedPolarisations>VV</selectedPolarisations>\n",
      "      <wktAoi/>\n",
      "      <firstBurstIndex>1</firstBurstIndex>\n",
      "    </parameters>\n",
      "  </node>\n",
      "  <node id=\"TOPSAR-Split(2)\">\n",
      "    <operator>TOPSAR-Split</operator>\n",
      "    <sources>\n",
      "      <sourceProduct refid=\"Apply-Orbit-File(1)\"/>\n",
      "    </sources>\n",
      "    <parameters class=\"com.bc.ceres.binding.dom.XppDomElement\">\n",
      "      <lastBurstIndex>9999</lastBurstIndex>\n",
      "      <subswath>IW3</subswath>\n",
      "      <selectedPolarisations>VV</selectedPolarisations>\n",
      "      <wktAoi/>\n",
      "      <firstBurstIndex>1</firstBurstIndex>\n",
      "    </parameters>\n",
      "  </node>\n",
      "</graph>\n",
      "\n"
     ]
    }
   ],
   "source": [
    "mygraph.view_graph()"
   ]
  },
  {
   "cell_type": "markdown",
   "metadata": {},
   "source": [
    "##### 2.4. Write"
   ]
  },
  {
   "cell_type": "code",
   "execution_count": 37,
   "metadata": {},
   "outputs": [
    {
     "name": "stdout",
     "output_type": "stream",
     "text": [
      "('file', 'temp/temp_master_0')\n",
      "Write(0)\n",
      "TOPSAR-Split(0)\n",
      "('formatName', 'BEAM-DIMAP')\n",
      "Write(0)\n",
      "TOPSAR-Split(0)\n",
      "('deleteOutputOnFailure', 'true')\n",
      "Write(0)\n",
      "TOPSAR-Split(0)\n",
      "('writeEntireTileRows', 'true')\n",
      "Write(0)\n",
      "TOPSAR-Split(0)\n",
      "('clearCacheAfterRowWrite', 'false')\n",
      "Write(0)\n",
      "TOPSAR-Split(0)\n",
      "('file', 'temp/temp_master_1')\n",
      "Write(1)\n",
      "TOPSAR-Split(1)\n",
      "('formatName', 'BEAM-DIMAP')\n",
      "Write(1)\n",
      "TOPSAR-Split(1)\n",
      "('deleteOutputOnFailure', 'true')\n",
      "Write(1)\n",
      "TOPSAR-Split(1)\n",
      "('writeEntireTileRows', 'true')\n",
      "Write(1)\n",
      "TOPSAR-Split(1)\n",
      "('clearCacheAfterRowWrite', 'false')\n",
      "Write(1)\n",
      "TOPSAR-Split(1)\n",
      "('file', 'temp/temp_master_2')\n",
      "Write(2)\n",
      "TOPSAR-Split(2)\n",
      "('formatName', 'BEAM-DIMAP')\n",
      "Write(2)\n",
      "TOPSAR-Split(2)\n",
      "('deleteOutputOnFailure', 'true')\n",
      "Write(2)\n",
      "TOPSAR-Split(2)\n",
      "('writeEntireTileRows', 'true')\n",
      "Write(2)\n",
      "TOPSAR-Split(2)\n",
      "('clearCacheAfterRowWrite', 'false')\n",
      "Write(2)\n",
      "TOPSAR-Split(2)\n"
     ]
    }
   ],
   "source": [
    "operator = 'Write'\n",
    "\n",
    "params_list_master = []\n",
    "\n",
    "for index, slave_split_node in enumerate(slave_split_nodes):\n",
    "    parameters = dict()\n",
    "    \n",
    "    output_name_master = os.path.join(temp_folder, 'temp_master_%s' % index)\n",
    "    \n",
    "    node_id = 'Write(%s)' % index\n",
    "    \n",
    "    source_node = slave_split_node\n",
    "\n",
    "    for param in get_snap_parameters(operator):\n",
    "\n",
    "        if param.getName() == 'file':\n",
    "\n",
    "            param_value = output_name_master\n",
    "\n",
    "        elif param.getName() == 'formatName':\n",
    "\n",
    "            param_value = 'BEAM-DIMAP'\n",
    "\n",
    "        else:\n",
    "\n",
    "            param_value = param.getDefaultValue()\n",
    "\n",
    "\n",
    "        print (param.getName(), param_value)\n",
    "\n",
    "        parameters[param.getName()] = param_value\n",
    "        \n",
    "\n",
    "        print(node_id)\n",
    "\n",
    "        print(source_node)\n",
    "        \n",
    "    params_list_master.append(parameters)"
   ]
  },
  {
   "cell_type": "code",
   "execution_count": 38,
   "metadata": {},
   "outputs": [
    {
     "name": "stdout",
     "output_type": "stream",
     "text": [
      "Write(0)\n",
      "TOPSAR-Split(0)\n",
      "Write(1)\n",
      "TOPSAR-Split(1)\n",
      "Write(2)\n",
      "TOPSAR-Split(2)\n"
     ]
    }
   ],
   "source": [
    "slave_tr_nodes = []\n",
    "\n",
    "for index, slave_split_node in enumerate(slave_split_nodes):\n",
    "    \n",
    "    node_id = 'Write(%s)' % index\n",
    "    \n",
    "    source_node = slave_split_node\n",
    "    \n",
    "    mygraph.add_node(node_id, operator, params_list_master[index], source_node)\n",
    "    \n",
    "    slave_tr_nodes.append(node_id)\n",
    "      \n",
    "    print(node_id)\n",
    "    \n",
    "    print(source_node)"
   ]
  },
  {
   "cell_type": "code",
   "execution_count": 39,
   "metadata": {},
   "outputs": [
    {
     "name": "stdout",
     "output_type": "stream",
     "text": [
      "<graph>\n",
      "  <version>1.0</version>\n",
      "  <node id=\"Read(1)\">\n",
      "    <operator>Read</operator>\n",
      "    <sources/>\n",
      "    <parameters class=\"com.bc.ceres.binding.dom.XppDomElement\">\n",
      "      <formatName/>\n",
      "      <file>/workspace/mall/data/S1A_IW_SLC__1SDV_20170101T092231_20170101T092258_014636_017CCA_B6F3/S1A_IW_SLC__1SDV_20170101T092231_20170101T092258_014636_017CCA_B6F3.SAFE/manifest.safe</file>\n",
      "    </parameters>\n",
      "  </node>\n",
      "  <node id=\"Apply-Orbit-File(1)\">\n",
      "    <operator>Apply-Orbit-File</operator>\n",
      "    <sources>\n",
      "      <sourceProduct refid=\"Read(1)\"/>\n",
      "    </sources>\n",
      "    <parameters class=\"com.bc.ceres.binding.dom.XppDomElement\">\n",
      "      <polyDegree>3</polyDegree>\n",
      "      <orbitType>Sentinel Precise (Auto Download)</orbitType>\n",
      "      <continueOnFail>false</continueOnFail>\n",
      "    </parameters>\n",
      "  </node>\n",
      "  <node id=\"TOPSAR-Split(0)\">\n",
      "    <operator>TOPSAR-Split</operator>\n",
      "    <sources>\n",
      "      <sourceProduct refid=\"Apply-Orbit-File(1)\"/>\n",
      "    </sources>\n",
      "    <parameters class=\"com.bc.ceres.binding.dom.XppDomElement\">\n",
      "      <lastBurstIndex>9999</lastBurstIndex>\n",
      "      <subswath>IW1</subswath>\n",
      "      <selectedPolarisations>VV</selectedPolarisations>\n",
      "      <wktAoi/>\n",
      "      <firstBurstIndex>1</firstBurstIndex>\n",
      "    </parameters>\n",
      "  </node>\n",
      "  <node id=\"TOPSAR-Split(1)\">\n",
      "    <operator>TOPSAR-Split</operator>\n",
      "    <sources>\n",
      "      <sourceProduct refid=\"Apply-Orbit-File(1)\"/>\n",
      "    </sources>\n",
      "    <parameters class=\"com.bc.ceres.binding.dom.XppDomElement\">\n",
      "      <lastBurstIndex>9999</lastBurstIndex>\n",
      "      <subswath>IW2</subswath>\n",
      "      <selectedPolarisations>VV</selectedPolarisations>\n",
      "      <wktAoi/>\n",
      "      <firstBurstIndex>1</firstBurstIndex>\n",
      "    </parameters>\n",
      "  </node>\n",
      "  <node id=\"TOPSAR-Split(2)\">\n",
      "    <operator>TOPSAR-Split</operator>\n",
      "    <sources>\n",
      "      <sourceProduct refid=\"Apply-Orbit-File(1)\"/>\n",
      "    </sources>\n",
      "    <parameters class=\"com.bc.ceres.binding.dom.XppDomElement\">\n",
      "      <lastBurstIndex>9999</lastBurstIndex>\n",
      "      <subswath>IW3</subswath>\n",
      "      <selectedPolarisations>VV</selectedPolarisations>\n",
      "      <wktAoi/>\n",
      "      <firstBurstIndex>1</firstBurstIndex>\n",
      "    </parameters>\n",
      "  </node>\n",
      "  <node id=\"Write(0)\">\n",
      "    <operator>Write</operator>\n",
      "    <sources>\n",
      "      <sourceProduct refid=\"TOPSAR-Split(0)\"/>\n",
      "    </sources>\n",
      "    <parameters class=\"com.bc.ceres.binding.dom.XppDomElement\">\n",
      "      <deleteOutputOnFailure>true</deleteOutputOnFailure>\n",
      "      <clearCacheAfterRowWrite>false</clearCacheAfterRowWrite>\n",
      "      <formatName>BEAM-DIMAP</formatName>\n",
      "      <writeEntireTileRows>true</writeEntireTileRows>\n",
      "      <file>temp/temp_master_0</file>\n",
      "    </parameters>\n",
      "  </node>\n",
      "  <node id=\"Write(1)\">\n",
      "    <operator>Write</operator>\n",
      "    <sources>\n",
      "      <sourceProduct refid=\"TOPSAR-Split(1)\"/>\n",
      "    </sources>\n",
      "    <parameters class=\"com.bc.ceres.binding.dom.XppDomElement\">\n",
      "      <deleteOutputOnFailure>true</deleteOutputOnFailure>\n",
      "      <clearCacheAfterRowWrite>false</clearCacheAfterRowWrite>\n",
      "      <formatName>BEAM-DIMAP</formatName>\n",
      "      <writeEntireTileRows>true</writeEntireTileRows>\n",
      "      <file>temp/temp_master_1</file>\n",
      "    </parameters>\n",
      "  </node>\n",
      "  <node id=\"Write(2)\">\n",
      "    <operator>Write</operator>\n",
      "    <sources>\n",
      "      <sourceProduct refid=\"TOPSAR-Split(2)\"/>\n",
      "    </sources>\n",
      "    <parameters class=\"com.bc.ceres.binding.dom.XppDomElement\">\n",
      "      <deleteOutputOnFailure>true</deleteOutputOnFailure>\n",
      "      <clearCacheAfterRowWrite>false</clearCacheAfterRowWrite>\n",
      "      <formatName>BEAM-DIMAP</formatName>\n",
      "      <writeEntireTileRows>true</writeEntireTileRows>\n",
      "      <file>temp/temp_master_2</file>\n",
      "    </parameters>\n",
      "  </node>\n",
      "</graph>\n",
      "\n"
     ]
    }
   ],
   "source": [
    "mygraph.view_graph()"
   ]
  },
  {
   "cell_type": "markdown",
   "metadata": {},
   "source": [
    "##### 1.10. Run"
   ]
  },
  {
   "cell_type": "code",
   "execution_count": 40,
   "metadata": {},
   "outputs": [
    {
     "name": "stdout",
     "output_type": "stream",
     "text": [
      "1937\n",
      "Executing processing graph\n",
      "....10%....20%....30%....40%....50%....60%....70%....80%....90% done.\n",
      "INFO: org.esa.snap.core.gpf.operators.tooladapter.ToolAdapterIO: Initializing external tool adapters\n",
      "SEVERE: org.esa.s2tbx.dataio.gdal.activator.GDALDistributionInstaller: The environment variable LD_LIBRARY_PATH is not set. It must contain the current folder '.'.\n",
      "INFO: org.hsqldb.persist.Logger: dataFileCache open start\n",
      "INFO: org.esa.snap.engine_utilities.download.downloadablecontent.DownloadableContentImpl: http retrieving http://step.esa.int/auxdata/orbits/Sentinel-1/POEORB/S1A/2016/12/S1A_OPER_AUX_POEORB_OPOD_20170121T121401_V20161231T225943_20170102T005942.EOF.zip\n",
      "\n"
     ]
    }
   ],
   "source": [
    "mygraph.run()"
   ]
  },
  {
   "cell_type": "markdown",
   "metadata": {},
   "source": [
    "#### 3. Processing"
   ]
  },
  {
   "cell_type": "code",
   "execution_count": 41,
   "metadata": {},
   "outputs": [],
   "source": [
    "mygraph = GraphProcessor()"
   ]
  },
  {
   "cell_type": "markdown",
   "metadata": {},
   "source": [
    "##### 3.1. Read slave and master products"
   ]
  },
  {
   "cell_type": "code",
   "execution_count": 42,
   "metadata": {
    "collapsed": false,
    "slideshow": {
     "slide_type": "subslide"
    }
   },
   "outputs": [
    {
     "name": "stdout",
     "output_type": "stream",
     "text": [
      "-----\n",
      "Read_0\n",
      "{'formatName': None, 'file': 'temp/temp_master_0.dim'}\n",
      "-----\n",
      "Read_1\n",
      "{'formatName': None, 'file': 'temp/temp_slave_0.dim'}\n",
      "-----\n",
      "Read_2\n",
      "{'formatName': None, 'file': 'temp/temp_master_1.dim'}\n",
      "-----\n",
      "Read_3\n",
      "{'formatName': None, 'file': 'temp/temp_slave_1.dim'}\n",
      "-----\n",
      "Read_4\n",
      "{'formatName': None, 'file': 'temp/temp_master_2.dim'}\n",
      "-----\n",
      "Read_5\n",
      "{'formatName': None, 'file': 'temp/temp_slave_2.dim'}\n"
     ]
    }
   ],
   "source": [
    "k = 0\n",
    "\n",
    "read_nodes_list = []\n",
    "\n",
    "for master, slave in zip(params_list_master, params_list_slave):\n",
    "    input_products = [master['file'] + '.dim', slave['file'] + '.dim']\n",
    "\n",
    "    operator = 'Read'\n",
    "\n",
    "    read_nodes = []\n",
    "\n",
    "    for index, identifier in enumerate(input_products):\n",
    "\n",
    "        parameters = dict()\n",
    "\n",
    "        for param in get_snap_parameters(operator):\n",
    "\n",
    "            if param.getName() == 'file':\n",
    "                parameters[param.getName()] = identifier\n",
    "            else:\n",
    "                parameters[param.getName()] = param.getDefaultValue()\n",
    "        node_id = 'Read_%s' % (index + k * 2)\n",
    "\n",
    "        read_nodes.append(node_id)\n",
    "        \n",
    "        print ('-----')\n",
    "        print (node_id)\n",
    "        print(parameters)\n",
    "\n",
    "        mygraph.add_node(node_id, 'Read', parameters, '')\n",
    "        \n",
    "    read_nodes_list.append(read_nodes)\n",
    "        \n",
    "    k = k + 1\n"
   ]
  },
  {
   "cell_type": "code",
   "execution_count": 43,
   "metadata": {},
   "outputs": [
    {
     "name": "stdout",
     "output_type": "stream",
     "text": [
      "<graph>\n",
      "  <version>1.0</version>\n",
      "  <node id=\"Read_0\">\n",
      "    <operator>Read</operator>\n",
      "    <sources/>\n",
      "    <parameters class=\"com.bc.ceres.binding.dom.XppDomElement\">\n",
      "      <formatName/>\n",
      "      <file>temp/temp_master_0.dim</file>\n",
      "    </parameters>\n",
      "  </node>\n",
      "  <node id=\"Read_1\">\n",
      "    <operator>Read</operator>\n",
      "    <sources/>\n",
      "    <parameters class=\"com.bc.ceres.binding.dom.XppDomElement\">\n",
      "      <formatName/>\n",
      "      <file>temp/temp_slave_0.dim</file>\n",
      "    </parameters>\n",
      "  </node>\n",
      "  <node id=\"Read_2\">\n",
      "    <operator>Read</operator>\n",
      "    <sources/>\n",
      "    <parameters class=\"com.bc.ceres.binding.dom.XppDomElement\">\n",
      "      <formatName/>\n",
      "      <file>temp/temp_master_1.dim</file>\n",
      "    </parameters>\n",
      "  </node>\n",
      "  <node id=\"Read_3\">\n",
      "    <operator>Read</operator>\n",
      "    <sources/>\n",
      "    <parameters class=\"com.bc.ceres.binding.dom.XppDomElement\">\n",
      "      <formatName/>\n",
      "      <file>temp/temp_slave_1.dim</file>\n",
      "    </parameters>\n",
      "  </node>\n",
      "  <node id=\"Read_4\">\n",
      "    <operator>Read</operator>\n",
      "    <sources/>\n",
      "    <parameters class=\"com.bc.ceres.binding.dom.XppDomElement\">\n",
      "      <formatName/>\n",
      "      <file>temp/temp_master_2.dim</file>\n",
      "    </parameters>\n",
      "  </node>\n",
      "  <node id=\"Read_5\">\n",
      "    <operator>Read</operator>\n",
      "    <sources/>\n",
      "    <parameters class=\"com.bc.ceres.binding.dom.XppDomElement\">\n",
      "      <formatName/>\n",
      "      <file>temp/temp_slave_2.dim</file>\n",
      "    </parameters>\n",
      "  </node>\n",
      "</graph>\n",
      "\n"
     ]
    }
   ],
   "source": [
    "mygraph.view_graph()"
   ]
  },
  {
   "cell_type": "markdown",
   "metadata": {},
   "source": [
    "##### 3.2. Back-Geocoding for all slave and master products"
   ]
  },
  {
   "cell_type": "code",
   "execution_count": 44,
   "metadata": {},
   "outputs": [
    {
     "name": "stdout",
     "output_type": "stream",
     "text": [
      "('demName', 'SRTM 3Sec')\n",
      "('demResamplingMethod', 'BICUBIC_INTERPOLATION')\n",
      "('externalDEMFile', None)\n",
      "('externalDEMNoDataValue', '0')\n",
      "('resamplingType', 'BISINC_5_POINT_INTERPOLATION')\n",
      "('maskOutAreaWithoutElevation', 'true')\n",
      "('outputRangeAzimuthOffset', 'false')\n",
      "('outputDerampDemodPhase', 'false')\n",
      "('disableReramp', 'false')\n"
     ]
    }
   ],
   "source": [
    "operator = 'Back-Geocoding'\n",
    "\n",
    "parameters = dict()\n",
    "\n",
    "for param in get_snap_parameters(operator):\n",
    "    \n",
    "    print(param.getName(), param.getDefaultValue())\n",
    "    \n",
    "    parameters[param.getName()] = param.getDefaultValue()"
   ]
  },
  {
   "cell_type": "code",
   "execution_count": 45,
   "metadata": {},
   "outputs": [
    {
     "name": "stdout",
     "output_type": "stream",
     "text": [
      "Back-Geocoding_0\n",
      "['Read_0', 'Read_1']\n",
      "Back-Geocoding_1\n",
      "['Read_2', 'Read_3']\n",
      "Back-Geocoding_2\n",
      "['Read_4', 'Read_5']\n"
     ]
    }
   ],
   "source": [
    "index = 0\n",
    "cor_nodes_list = []\n",
    "\n",
    "for node in read_nodes_list:\n",
    "    cor_nodes = []\n",
    "\n",
    "    node_id = 'Back-Geocoding_%s' % index\n",
    "\n",
    "    source_nodes = read_nodes\n",
    "\n",
    "    mygraph.add_node(node_id, operator, parameters, node)\n",
    "\n",
    "    cor_nodes.append(node_id)\n",
    "\n",
    "    print(node_id)\n",
    "\n",
    "    print(node)\n",
    "    \n",
    "    index = index + 1 \n",
    "    \n",
    "    cor_nodes_list.append(cor_nodes)"
   ]
  },
  {
   "cell_type": "code",
   "execution_count": 46,
   "metadata": {},
   "outputs": [
    {
     "name": "stdout",
     "output_type": "stream",
     "text": [
      "<graph>\n",
      "  <version>1.0</version>\n",
      "  <node id=\"Read_0\">\n",
      "    <operator>Read</operator>\n",
      "    <sources/>\n",
      "    <parameters class=\"com.bc.ceres.binding.dom.XppDomElement\">\n",
      "      <formatName/>\n",
      "      <file>temp/temp_master_0.dim</file>\n",
      "    </parameters>\n",
      "  </node>\n",
      "  <node id=\"Read_1\">\n",
      "    <operator>Read</operator>\n",
      "    <sources/>\n",
      "    <parameters class=\"com.bc.ceres.binding.dom.XppDomElement\">\n",
      "      <formatName/>\n",
      "      <file>temp/temp_slave_0.dim</file>\n",
      "    </parameters>\n",
      "  </node>\n",
      "  <node id=\"Read_2\">\n",
      "    <operator>Read</operator>\n",
      "    <sources/>\n",
      "    <parameters class=\"com.bc.ceres.binding.dom.XppDomElement\">\n",
      "      <formatName/>\n",
      "      <file>temp/temp_master_1.dim</file>\n",
      "    </parameters>\n",
      "  </node>\n",
      "  <node id=\"Read_3\">\n",
      "    <operator>Read</operator>\n",
      "    <sources/>\n",
      "    <parameters class=\"com.bc.ceres.binding.dom.XppDomElement\">\n",
      "      <formatName/>\n",
      "      <file>temp/temp_slave_1.dim</file>\n",
      "    </parameters>\n",
      "  </node>\n",
      "  <node id=\"Read_4\">\n",
      "    <operator>Read</operator>\n",
      "    <sources/>\n",
      "    <parameters class=\"com.bc.ceres.binding.dom.XppDomElement\">\n",
      "      <formatName/>\n",
      "      <file>temp/temp_master_2.dim</file>\n",
      "    </parameters>\n",
      "  </node>\n",
      "  <node id=\"Read_5\">\n",
      "    <operator>Read</operator>\n",
      "    <sources/>\n",
      "    <parameters class=\"com.bc.ceres.binding.dom.XppDomElement\">\n",
      "      <formatName/>\n",
      "      <file>temp/temp_slave_2.dim</file>\n",
      "    </parameters>\n",
      "  </node>\n",
      "  <node id=\"Back-Geocoding_0\">\n",
      "    <operator>Back-Geocoding</operator>\n",
      "    <sources>\n",
      "      <sourceProduct refid=\"Read_0\"/>\n",
      "      <sourceProduct.1 refid=\"Read_1\"/>\n",
      "    </sources>\n",
      "    <parameters class=\"com.bc.ceres.binding.dom.XppDomElement\">\n",
      "      <outputDerampDemodPhase>false</outputDerampDemodPhase>\n",
      "      <demName>SRTM 3Sec</demName>\n",
      "      <demResamplingMethod>BICUBIC_INTERPOLATION</demResamplingMethod>\n",
      "      <maskOutAreaWithoutElevation>true</maskOutAreaWithoutElevation>\n",
      "      <outputRangeAzimuthOffset>false</outputRangeAzimuthOffset>\n",
      "      <externalDEMNoDataValue>0</externalDEMNoDataValue>\n",
      "      <disableReramp>false</disableReramp>\n",
      "      <externalDEMFile/>\n",
      "      <resamplingType>BISINC_5_POINT_INTERPOLATION</resamplingType>\n",
      "    </parameters>\n",
      "  </node>\n",
      "  <node id=\"Back-Geocoding_1\">\n",
      "    <operator>Back-Geocoding</operator>\n",
      "    <sources>\n",
      "      <sourceProduct refid=\"Read_2\"/>\n",
      "      <sourceProduct.1 refid=\"Read_3\"/>\n",
      "    </sources>\n",
      "    <parameters class=\"com.bc.ceres.binding.dom.XppDomElement\">\n",
      "      <outputDerampDemodPhase>false</outputDerampDemodPhase>\n",
      "      <demName>SRTM 3Sec</demName>\n",
      "      <demResamplingMethod>BICUBIC_INTERPOLATION</demResamplingMethod>\n",
      "      <maskOutAreaWithoutElevation>true</maskOutAreaWithoutElevation>\n",
      "      <outputRangeAzimuthOffset>false</outputRangeAzimuthOffset>\n",
      "      <externalDEMNoDataValue>0</externalDEMNoDataValue>\n",
      "      <disableReramp>false</disableReramp>\n",
      "      <externalDEMFile/>\n",
      "      <resamplingType>BISINC_5_POINT_INTERPOLATION</resamplingType>\n",
      "    </parameters>\n",
      "  </node>\n",
      "  <node id=\"Back-Geocoding_2\">\n",
      "    <operator>Back-Geocoding</operator>\n",
      "    <sources>\n",
      "      <sourceProduct refid=\"Read_4\"/>\n",
      "      <sourceProduct.1 refid=\"Read_5\"/>\n",
      "    </sources>\n",
      "    <parameters class=\"com.bc.ceres.binding.dom.XppDomElement\">\n",
      "      <outputDerampDemodPhase>false</outputDerampDemodPhase>\n",
      "      <demName>SRTM 3Sec</demName>\n",
      "      <demResamplingMethod>BICUBIC_INTERPOLATION</demResamplingMethod>\n",
      "      <maskOutAreaWithoutElevation>true</maskOutAreaWithoutElevation>\n",
      "      <outputRangeAzimuthOffset>false</outputRangeAzimuthOffset>\n",
      "      <externalDEMNoDataValue>0</externalDEMNoDataValue>\n",
      "      <disableReramp>false</disableReramp>\n",
      "      <externalDEMFile/>\n",
      "      <resamplingType>BISINC_5_POINT_INTERPOLATION</resamplingType>\n",
      "    </parameters>\n",
      "  </node>\n",
      "</graph>\n",
      "\n"
     ]
    }
   ],
   "source": [
    "mygraph.view_graph()"
   ]
  },
  {
   "cell_type": "markdown",
   "metadata": {},
   "source": [
    "##### 3.3. Coherence"
   ]
  },
  {
   "cell_type": "code",
   "execution_count": 47,
   "metadata": {},
   "outputs": [
    {
     "name": "stdout",
     "output_type": "stream",
     "text": [
      "('cohWinAz', '10')\n",
      "('cohWinRg', '10')\n",
      "('subtractFlatEarthPhase', 'false')\n",
      "('srpPolynomialDegree', '5')\n",
      "('srpNumberPoints', '501')\n",
      "('orbitDegree', '3')\n",
      "('squarePixel', 'true')\n",
      "('subtractTopographicPhase', 'false')\n",
      "('demName', 'SRTM 3Sec')\n",
      "('externalDEMFile', None)\n",
      "('externalDEMNoDataValue', '0')\n",
      "('externalDEMApplyEGM', 'true')\n",
      "('tileExtensionPercent', '100')\n"
     ]
    }
   ],
   "source": [
    "operator = 'Coherence'\n",
    "\n",
    "parameters = dict()\n",
    "\n",
    "for param in get_snap_parameters(operator):\n",
    "    \n",
    "    print(param.getName(), param.getDefaultValue())\n",
    "    \n",
    "    parameters[param.getName()] = param.getDefaultValue()"
   ]
  },
  {
   "cell_type": "code",
   "execution_count": 48,
   "metadata": {},
   "outputs": [
    {
     "name": "stdout",
     "output_type": "stream",
     "text": [
      "Coherence_0\n",
      "['Back-Geocoding_0']\n",
      "Coherence_1\n",
      "['Back-Geocoding_1']\n",
      "Coherence_2\n",
      "['Back-Geocoding_2']\n"
     ]
    }
   ],
   "source": [
    "index = 0\n",
    "fil_nodes_list = []\n",
    "\n",
    "for node in cor_nodes_list:\n",
    "    node_id = 'Coherence_%s' % index\n",
    "    \n",
    "    fil_nodes = []\n",
    "\n",
    "    source_nodes = cor_nodes\n",
    "\n",
    "    mygraph.add_node(node_id, operator, parameters, node)\n",
    "\n",
    "    fil_nodes.append(node_id)\n",
    "\n",
    "    print(node_id)\n",
    "\n",
    "    print(node)\n",
    "    \n",
    "    fil_nodes_list.append(fil_nodes)\n",
    "    \n",
    "    index = index + 1"
   ]
  },
  {
   "cell_type": "code",
   "execution_count": 49,
   "metadata": {},
   "outputs": [
    {
     "name": "stdout",
     "output_type": "stream",
     "text": [
      "<graph>\n",
      "  <version>1.0</version>\n",
      "  <node id=\"Read_0\">\n",
      "    <operator>Read</operator>\n",
      "    <sources/>\n",
      "    <parameters class=\"com.bc.ceres.binding.dom.XppDomElement\">\n",
      "      <formatName/>\n",
      "      <file>temp/temp_master_0.dim</file>\n",
      "    </parameters>\n",
      "  </node>\n",
      "  <node id=\"Read_1\">\n",
      "    <operator>Read</operator>\n",
      "    <sources/>\n",
      "    <parameters class=\"com.bc.ceres.binding.dom.XppDomElement\">\n",
      "      <formatName/>\n",
      "      <file>temp/temp_slave_0.dim</file>\n",
      "    </parameters>\n",
      "  </node>\n",
      "  <node id=\"Read_2\">\n",
      "    <operator>Read</operator>\n",
      "    <sources/>\n",
      "    <parameters class=\"com.bc.ceres.binding.dom.XppDomElement\">\n",
      "      <formatName/>\n",
      "      <file>temp/temp_master_1.dim</file>\n",
      "    </parameters>\n",
      "  </node>\n",
      "  <node id=\"Read_3\">\n",
      "    <operator>Read</operator>\n",
      "    <sources/>\n",
      "    <parameters class=\"com.bc.ceres.binding.dom.XppDomElement\">\n",
      "      <formatName/>\n",
      "      <file>temp/temp_slave_1.dim</file>\n",
      "    </parameters>\n",
      "  </node>\n",
      "  <node id=\"Read_4\">\n",
      "    <operator>Read</operator>\n",
      "    <sources/>\n",
      "    <parameters class=\"com.bc.ceres.binding.dom.XppDomElement\">\n",
      "      <formatName/>\n",
      "      <file>temp/temp_master_2.dim</file>\n",
      "    </parameters>\n",
      "  </node>\n",
      "  <node id=\"Read_5\">\n",
      "    <operator>Read</operator>\n",
      "    <sources/>\n",
      "    <parameters class=\"com.bc.ceres.binding.dom.XppDomElement\">\n",
      "      <formatName/>\n",
      "      <file>temp/temp_slave_2.dim</file>\n",
      "    </parameters>\n",
      "  </node>\n",
      "  <node id=\"Back-Geocoding_0\">\n",
      "    <operator>Back-Geocoding</operator>\n",
      "    <sources>\n",
      "      <sourceProduct refid=\"Read_0\"/>\n",
      "      <sourceProduct.1 refid=\"Read_1\"/>\n",
      "    </sources>\n",
      "    <parameters class=\"com.bc.ceres.binding.dom.XppDomElement\">\n",
      "      <outputDerampDemodPhase>false</outputDerampDemodPhase>\n",
      "      <demName>SRTM 3Sec</demName>\n",
      "      <demResamplingMethod>BICUBIC_INTERPOLATION</demResamplingMethod>\n",
      "      <maskOutAreaWithoutElevation>true</maskOutAreaWithoutElevation>\n",
      "      <outputRangeAzimuthOffset>false</outputRangeAzimuthOffset>\n",
      "      <externalDEMNoDataValue>0</externalDEMNoDataValue>\n",
      "      <disableReramp>false</disableReramp>\n",
      "      <externalDEMFile/>\n",
      "      <resamplingType>BISINC_5_POINT_INTERPOLATION</resamplingType>\n",
      "    </parameters>\n",
      "  </node>\n",
      "  <node id=\"Back-Geocoding_1\">\n",
      "    <operator>Back-Geocoding</operator>\n",
      "    <sources>\n",
      "      <sourceProduct refid=\"Read_2\"/>\n",
      "      <sourceProduct.1 refid=\"Read_3\"/>\n",
      "    </sources>\n",
      "    <parameters class=\"com.bc.ceres.binding.dom.XppDomElement\">\n",
      "      <outputDerampDemodPhase>false</outputDerampDemodPhase>\n",
      "      <demName>SRTM 3Sec</demName>\n",
      "      <demResamplingMethod>BICUBIC_INTERPOLATION</demResamplingMethod>\n",
      "      <maskOutAreaWithoutElevation>true</maskOutAreaWithoutElevation>\n",
      "      <outputRangeAzimuthOffset>false</outputRangeAzimuthOffset>\n",
      "      <externalDEMNoDataValue>0</externalDEMNoDataValue>\n",
      "      <disableReramp>false</disableReramp>\n",
      "      <externalDEMFile/>\n",
      "      <resamplingType>BISINC_5_POINT_INTERPOLATION</resamplingType>\n",
      "    </parameters>\n",
      "  </node>\n",
      "  <node id=\"Back-Geocoding_2\">\n",
      "    <operator>Back-Geocoding</operator>\n",
      "    <sources>\n",
      "      <sourceProduct refid=\"Read_4\"/>\n",
      "      <sourceProduct.1 refid=\"Read_5\"/>\n",
      "    </sources>\n",
      "    <parameters class=\"com.bc.ceres.binding.dom.XppDomElement\">\n",
      "      <outputDerampDemodPhase>false</outputDerampDemodPhase>\n",
      "      <demName>SRTM 3Sec</demName>\n",
      "      <demResamplingMethod>BICUBIC_INTERPOLATION</demResamplingMethod>\n",
      "      <maskOutAreaWithoutElevation>true</maskOutAreaWithoutElevation>\n",
      "      <outputRangeAzimuthOffset>false</outputRangeAzimuthOffset>\n",
      "      <externalDEMNoDataValue>0</externalDEMNoDataValue>\n",
      "      <disableReramp>false</disableReramp>\n",
      "      <externalDEMFile/>\n",
      "      <resamplingType>BISINC_5_POINT_INTERPOLATION</resamplingType>\n",
      "    </parameters>\n",
      "  </node>\n",
      "  <node id=\"Coherence_0\">\n",
      "    <operator>Coherence</operator>\n",
      "    <sources>\n",
      "      <sourceProduct refid=\"Back-Geocoding_0\"/>\n",
      "    </sources>\n",
      "    <parameters class=\"com.bc.ceres.binding.dom.XppDomElement\">\n",
      "      <orbitDegree>3</orbitDegree>\n",
      "      <demName>SRTM 3Sec</demName>\n",
      "      <externalDEMFile/>\n",
      "      <srpPolynomialDegree>5</srpPolynomialDegree>\n",
      "      <subtractTopographicPhase>false</subtractTopographicPhase>\n",
      "      <subtractFlatEarthPhase>false</subtractFlatEarthPhase>\n",
      "      <cohWinRg>10</cohWinRg>\n",
      "      <externalDEMApplyEGM>true</externalDEMApplyEGM>\n",
      "      <externalDEMNoDataValue>0</externalDEMNoDataValue>\n",
      "      <tileExtensionPercent>100</tileExtensionPercent>\n",
      "      <srpNumberPoints>501</srpNumberPoints>\n",
      "      <cohWinAz>10</cohWinAz>\n",
      "      <squarePixel>true</squarePixel>\n",
      "    </parameters>\n",
      "  </node>\n",
      "  <node id=\"Coherence_1\">\n",
      "    <operator>Coherence</operator>\n",
      "    <sources>\n",
      "      <sourceProduct refid=\"Back-Geocoding_1\"/>\n",
      "    </sources>\n",
      "    <parameters class=\"com.bc.ceres.binding.dom.XppDomElement\">\n",
      "      <orbitDegree>3</orbitDegree>\n",
      "      <demName>SRTM 3Sec</demName>\n",
      "      <externalDEMFile/>\n",
      "      <srpPolynomialDegree>5</srpPolynomialDegree>\n",
      "      <subtractTopographicPhase>false</subtractTopographicPhase>\n",
      "      <subtractFlatEarthPhase>false</subtractFlatEarthPhase>\n",
      "      <cohWinRg>10</cohWinRg>\n",
      "      <externalDEMApplyEGM>true</externalDEMApplyEGM>\n",
      "      <externalDEMNoDataValue>0</externalDEMNoDataValue>\n",
      "      <tileExtensionPercent>100</tileExtensionPercent>\n",
      "      <srpNumberPoints>501</srpNumberPoints>\n",
      "      <cohWinAz>10</cohWinAz>\n",
      "      <squarePixel>true</squarePixel>\n",
      "    </parameters>\n",
      "  </node>\n",
      "  <node id=\"Coherence_2\">\n",
      "    <operator>Coherence</operator>\n",
      "    <sources>\n",
      "      <sourceProduct refid=\"Back-Geocoding_2\"/>\n",
      "    </sources>\n",
      "    <parameters class=\"com.bc.ceres.binding.dom.XppDomElement\">\n",
      "      <orbitDegree>3</orbitDegree>\n",
      "      <demName>SRTM 3Sec</demName>\n",
      "      <externalDEMFile/>\n",
      "      <srpPolynomialDegree>5</srpPolynomialDegree>\n",
      "      <subtractTopographicPhase>false</subtractTopographicPhase>\n",
      "      <subtractFlatEarthPhase>false</subtractFlatEarthPhase>\n",
      "      <cohWinRg>10</cohWinRg>\n",
      "      <externalDEMApplyEGM>true</externalDEMApplyEGM>\n",
      "      <externalDEMNoDataValue>0</externalDEMNoDataValue>\n",
      "      <tileExtensionPercent>100</tileExtensionPercent>\n",
      "      <srpNumberPoints>501</srpNumberPoints>\n",
      "      <cohWinAz>10</cohWinAz>\n",
      "      <squarePixel>true</squarePixel>\n",
      "    </parameters>\n",
      "  </node>\n",
      "</graph>\n",
      "\n"
     ]
    }
   ],
   "source": [
    "mygraph.view_graph()"
   ]
  },
  {
   "cell_type": "markdown",
   "metadata": {},
   "source": [
    "##### 3.4. TOPSAR-Deburst"
   ]
  },
  {
   "cell_type": "code",
   "execution_count": 50,
   "metadata": {},
   "outputs": [
    {
     "name": "stdout",
     "output_type": "stream",
     "text": [
      "('selectedPolarisations', None)\n"
     ]
    }
   ],
   "source": [
    "operator = 'TOPSAR-Deburst'\n",
    "\n",
    "parameters = dict()\n",
    "\n",
    "for param in get_snap_parameters(operator):\n",
    "    \n",
    "    print(param.getName(), param.getDefaultValue())\n",
    "    parameters[param.getName()] = param.getDefaultValue()"
   ]
  },
  {
   "cell_type": "code",
   "execution_count": 51,
   "metadata": {},
   "outputs": [
    {
     "name": "stdout",
     "output_type": "stream",
     "text": [
      "TOPSAR-Deburst_0\n",
      "['Coherence_0']\n",
      "TOPSAR-Deburst_1\n",
      "['Coherence_1']\n",
      "TOPSAR-Deburst_2\n",
      "['Coherence_2']\n"
     ]
    }
   ],
   "source": [
    "index = 0\n",
    "deb_nodes_list = []\n",
    "\n",
    "for node in fil_nodes_list:\n",
    "    \n",
    "    node_id = 'TOPSAR-Deburst_%s' % index\n",
    "\n",
    "    deb_nodes = []\n",
    "\n",
    "    source_node = deb_nodes\n",
    "\n",
    "    mygraph.add_node(node_id, operator, parameters, node)\n",
    "\n",
    "    deb_nodes.append(node_id)\n",
    "\n",
    "    print(node_id)\n",
    "\n",
    "    print(node)\n",
    "        \n",
    "    deb_nodes_list.append(deb_nodes)\n",
    "    \n",
    "    index = index + 1"
   ]
  },
  {
   "cell_type": "code",
   "execution_count": 52,
   "metadata": {},
   "outputs": [
    {
     "name": "stdout",
     "output_type": "stream",
     "text": [
      "<graph>\n",
      "  <version>1.0</version>\n",
      "  <node id=\"Read_0\">\n",
      "    <operator>Read</operator>\n",
      "    <sources/>\n",
      "    <parameters class=\"com.bc.ceres.binding.dom.XppDomElement\">\n",
      "      <formatName/>\n",
      "      <file>temp/temp_master_0.dim</file>\n",
      "    </parameters>\n",
      "  </node>\n",
      "  <node id=\"Read_1\">\n",
      "    <operator>Read</operator>\n",
      "    <sources/>\n",
      "    <parameters class=\"com.bc.ceres.binding.dom.XppDomElement\">\n",
      "      <formatName/>\n",
      "      <file>temp/temp_slave_0.dim</file>\n",
      "    </parameters>\n",
      "  </node>\n",
      "  <node id=\"Read_2\">\n",
      "    <operator>Read</operator>\n",
      "    <sources/>\n",
      "    <parameters class=\"com.bc.ceres.binding.dom.XppDomElement\">\n",
      "      <formatName/>\n",
      "      <file>temp/temp_master_1.dim</file>\n",
      "    </parameters>\n",
      "  </node>\n",
      "  <node id=\"Read_3\">\n",
      "    <operator>Read</operator>\n",
      "    <sources/>\n",
      "    <parameters class=\"com.bc.ceres.binding.dom.XppDomElement\">\n",
      "      <formatName/>\n",
      "      <file>temp/temp_slave_1.dim</file>\n",
      "    </parameters>\n",
      "  </node>\n",
      "  <node id=\"Read_4\">\n",
      "    <operator>Read</operator>\n",
      "    <sources/>\n",
      "    <parameters class=\"com.bc.ceres.binding.dom.XppDomElement\">\n",
      "      <formatName/>\n",
      "      <file>temp/temp_master_2.dim</file>\n",
      "    </parameters>\n",
      "  </node>\n",
      "  <node id=\"Read_5\">\n",
      "    <operator>Read</operator>\n",
      "    <sources/>\n",
      "    <parameters class=\"com.bc.ceres.binding.dom.XppDomElement\">\n",
      "      <formatName/>\n",
      "      <file>temp/temp_slave_2.dim</file>\n",
      "    </parameters>\n",
      "  </node>\n",
      "  <node id=\"Back-Geocoding_0\">\n",
      "    <operator>Back-Geocoding</operator>\n",
      "    <sources>\n",
      "      <sourceProduct refid=\"Read_0\"/>\n",
      "      <sourceProduct.1 refid=\"Read_1\"/>\n",
      "    </sources>\n",
      "    <parameters class=\"com.bc.ceres.binding.dom.XppDomElement\">\n",
      "      <outputDerampDemodPhase>false</outputDerampDemodPhase>\n",
      "      <demName>SRTM 3Sec</demName>\n",
      "      <demResamplingMethod>BICUBIC_INTERPOLATION</demResamplingMethod>\n",
      "      <maskOutAreaWithoutElevation>true</maskOutAreaWithoutElevation>\n",
      "      <outputRangeAzimuthOffset>false</outputRangeAzimuthOffset>\n",
      "      <externalDEMNoDataValue>0</externalDEMNoDataValue>\n",
      "      <disableReramp>false</disableReramp>\n",
      "      <externalDEMFile/>\n",
      "      <resamplingType>BISINC_5_POINT_INTERPOLATION</resamplingType>\n",
      "    </parameters>\n",
      "  </node>\n",
      "  <node id=\"Back-Geocoding_1\">\n",
      "    <operator>Back-Geocoding</operator>\n",
      "    <sources>\n",
      "      <sourceProduct refid=\"Read_2\"/>\n",
      "      <sourceProduct.1 refid=\"Read_3\"/>\n",
      "    </sources>\n",
      "    <parameters class=\"com.bc.ceres.binding.dom.XppDomElement\">\n",
      "      <outputDerampDemodPhase>false</outputDerampDemodPhase>\n",
      "      <demName>SRTM 3Sec</demName>\n",
      "      <demResamplingMethod>BICUBIC_INTERPOLATION</demResamplingMethod>\n",
      "      <maskOutAreaWithoutElevation>true</maskOutAreaWithoutElevation>\n",
      "      <outputRangeAzimuthOffset>false</outputRangeAzimuthOffset>\n",
      "      <externalDEMNoDataValue>0</externalDEMNoDataValue>\n",
      "      <disableReramp>false</disableReramp>\n",
      "      <externalDEMFile/>\n",
      "      <resamplingType>BISINC_5_POINT_INTERPOLATION</resamplingType>\n",
      "    </parameters>\n",
      "  </node>\n",
      "  <node id=\"Back-Geocoding_2\">\n",
      "    <operator>Back-Geocoding</operator>\n",
      "    <sources>\n",
      "      <sourceProduct refid=\"Read_4\"/>\n",
      "      <sourceProduct.1 refid=\"Read_5\"/>\n",
      "    </sources>\n",
      "    <parameters class=\"com.bc.ceres.binding.dom.XppDomElement\">\n",
      "      <outputDerampDemodPhase>false</outputDerampDemodPhase>\n",
      "      <demName>SRTM 3Sec</demName>\n",
      "      <demResamplingMethod>BICUBIC_INTERPOLATION</demResamplingMethod>\n",
      "      <maskOutAreaWithoutElevation>true</maskOutAreaWithoutElevation>\n",
      "      <outputRangeAzimuthOffset>false</outputRangeAzimuthOffset>\n",
      "      <externalDEMNoDataValue>0</externalDEMNoDataValue>\n",
      "      <disableReramp>false</disableReramp>\n",
      "      <externalDEMFile/>\n",
      "      <resamplingType>BISINC_5_POINT_INTERPOLATION</resamplingType>\n",
      "    </parameters>\n",
      "  </node>\n",
      "  <node id=\"Coherence_0\">\n",
      "    <operator>Coherence</operator>\n",
      "    <sources>\n",
      "      <sourceProduct refid=\"Back-Geocoding_0\"/>\n",
      "    </sources>\n",
      "    <parameters class=\"com.bc.ceres.binding.dom.XppDomElement\">\n",
      "      <orbitDegree>3</orbitDegree>\n",
      "      <demName>SRTM 3Sec</demName>\n",
      "      <externalDEMFile/>\n",
      "      <srpPolynomialDegree>5</srpPolynomialDegree>\n",
      "      <subtractTopographicPhase>false</subtractTopographicPhase>\n",
      "      <subtractFlatEarthPhase>false</subtractFlatEarthPhase>\n",
      "      <cohWinRg>10</cohWinRg>\n",
      "      <externalDEMApplyEGM>true</externalDEMApplyEGM>\n",
      "      <externalDEMNoDataValue>0</externalDEMNoDataValue>\n",
      "      <tileExtensionPercent>100</tileExtensionPercent>\n",
      "      <srpNumberPoints>501</srpNumberPoints>\n",
      "      <cohWinAz>10</cohWinAz>\n",
      "      <squarePixel>true</squarePixel>\n",
      "    </parameters>\n",
      "  </node>\n",
      "  <node id=\"Coherence_1\">\n",
      "    <operator>Coherence</operator>\n",
      "    <sources>\n",
      "      <sourceProduct refid=\"Back-Geocoding_1\"/>\n",
      "    </sources>\n",
      "    <parameters class=\"com.bc.ceres.binding.dom.XppDomElement\">\n",
      "      <orbitDegree>3</orbitDegree>\n",
      "      <demName>SRTM 3Sec</demName>\n",
      "      <externalDEMFile/>\n",
      "      <srpPolynomialDegree>5</srpPolynomialDegree>\n",
      "      <subtractTopographicPhase>false</subtractTopographicPhase>\n",
      "      <subtractFlatEarthPhase>false</subtractFlatEarthPhase>\n",
      "      <cohWinRg>10</cohWinRg>\n",
      "      <externalDEMApplyEGM>true</externalDEMApplyEGM>\n",
      "      <externalDEMNoDataValue>0</externalDEMNoDataValue>\n",
      "      <tileExtensionPercent>100</tileExtensionPercent>\n",
      "      <srpNumberPoints>501</srpNumberPoints>\n",
      "      <cohWinAz>10</cohWinAz>\n",
      "      <squarePixel>true</squarePixel>\n",
      "    </parameters>\n",
      "  </node>\n",
      "  <node id=\"Coherence_2\">\n",
      "    <operator>Coherence</operator>\n",
      "    <sources>\n",
      "      <sourceProduct refid=\"Back-Geocoding_2\"/>\n",
      "    </sources>\n",
      "    <parameters class=\"com.bc.ceres.binding.dom.XppDomElement\">\n",
      "      <orbitDegree>3</orbitDegree>\n",
      "      <demName>SRTM 3Sec</demName>\n",
      "      <externalDEMFile/>\n",
      "      <srpPolynomialDegree>5</srpPolynomialDegree>\n",
      "      <subtractTopographicPhase>false</subtractTopographicPhase>\n",
      "      <subtractFlatEarthPhase>false</subtractFlatEarthPhase>\n",
      "      <cohWinRg>10</cohWinRg>\n",
      "      <externalDEMApplyEGM>true</externalDEMApplyEGM>\n",
      "      <externalDEMNoDataValue>0</externalDEMNoDataValue>\n",
      "      <tileExtensionPercent>100</tileExtensionPercent>\n",
      "      <srpNumberPoints>501</srpNumberPoints>\n",
      "      <cohWinAz>10</cohWinAz>\n",
      "      <squarePixel>true</squarePixel>\n",
      "    </parameters>\n",
      "  </node>\n",
      "  <node id=\"TOPSAR-Deburst_0\">\n",
      "    <operator>TOPSAR-Deburst</operator>\n",
      "    <sources>\n",
      "      <sourceProduct refid=\"Coherence_0\"/>\n",
      "    </sources>\n",
      "    <parameters class=\"com.bc.ceres.binding.dom.XppDomElement\">\n",
      "      <selectedPolarisations/>\n",
      "    </parameters>\n",
      "  </node>\n",
      "  <node id=\"TOPSAR-Deburst_1\">\n",
      "    <operator>TOPSAR-Deburst</operator>\n",
      "    <sources>\n",
      "      <sourceProduct refid=\"Coherence_1\"/>\n",
      "    </sources>\n",
      "    <parameters class=\"com.bc.ceres.binding.dom.XppDomElement\">\n",
      "      <selectedPolarisations/>\n",
      "    </parameters>\n",
      "  </node>\n",
      "  <node id=\"TOPSAR-Deburst_2\">\n",
      "    <operator>TOPSAR-Deburst</operator>\n",
      "    <sources>\n",
      "      <sourceProduct refid=\"Coherence_2\"/>\n",
      "    </sources>\n",
      "    <parameters class=\"com.bc.ceres.binding.dom.XppDomElement\">\n",
      "      <selectedPolarisations/>\n",
      "    </parameters>\n",
      "  </node>\n",
      "</graph>\n",
      "\n"
     ]
    }
   ],
   "source": [
    "mygraph.view_graph()"
   ]
  },
  {
   "cell_type": "code",
   "execution_count": 53,
   "metadata": {},
   "outputs": [
    {
     "data": {
      "text/plain": [
       "[['TOPSAR-Deburst_0'], ['TOPSAR-Deburst_1'], ['TOPSAR-Deburst_2']]"
      ]
     },
     "execution_count": 53,
     "metadata": {},
     "output_type": "execute_result"
    }
   ],
   "source": [
    "deb_nodes_list"
   ]
  },
  {
   "cell_type": "markdown",
   "metadata": {},
   "source": [
    "##### 3.5. TOPSAR-Merge"
   ]
  },
  {
   "cell_type": "code",
   "execution_count": 54,
   "metadata": {},
   "outputs": [
    {
     "name": "stdout",
     "output_type": "stream",
     "text": [
      "('selectedPolarisations', None)\n"
     ]
    }
   ],
   "source": [
    "operator = 'TOPSAR-Merge'\n",
    "\n",
    "parameters = dict()\n",
    "\n",
    "for param in get_snap_parameters(operator):\n",
    "    \n",
    "    print(param.getName(), param.getDefaultValue())\n",
    "    parameters[param.getName()] = param.getDefaultValue()"
   ]
  },
  {
   "cell_type": "code",
   "execution_count": 55,
   "metadata": {},
   "outputs": [
    {
     "name": "stdout",
     "output_type": "stream",
     "text": [
      "TOPSAR-Merge(0)\n",
      "['TOPSAR-Deburst_0', 'TOPSAR-Deburst_1', 'TOPSAR-Deburst_2']\n"
     ]
    }
   ],
   "source": [
    "merge_nodes = []\n",
    "\n",
    "node_id = 'TOPSAR-Merge(%s)' % str(0)\n",
    "\n",
    "source_nodes = []\n",
    "\n",
    "for index, deb_node in enumerate(deb_nodes_list):\n",
    "    \n",
    "    source_nodes.append(deb_node[0])\n",
    "    \n",
    "mygraph.add_node(node_id, operator, parameters, source_nodes)\n",
    "\n",
    "merge_node = node_id\n",
    "\n",
    "print(node_id)\n",
    "    \n",
    "print(source_nodes)"
   ]
  },
  {
   "cell_type": "markdown",
   "metadata": {},
   "source": [
    "mygraph.view_graph()"
   ]
  },
  {
   "cell_type": "markdown",
   "metadata": {},
   "source": [
    "##### 3.6. Multilook"
   ]
  },
  {
   "cell_type": "code",
   "execution_count": 56,
   "metadata": {},
   "outputs": [
    {
     "name": "stdout",
     "output_type": "stream",
     "text": [
      "('sourceBandNames', None)\n",
      "('nRgLooks', '1')\n",
      "('nAzLooks', '1')\n",
      "('outputIntensity', 'false')\n",
      "('grSquarePixel', 'true')\n"
     ]
    }
   ],
   "source": [
    "operator = 'Multilook'\n",
    "\n",
    "parameters = dict()\n",
    "\n",
    "for param in get_snap_parameters(operator):\n",
    "    \n",
    "    print(param.getName(), param.getDefaultValue())\n",
    "    \n",
    "    if param.getName() == 'nRgLooks':\n",
    "        parameters[param.getName()] = '4'\n",
    "    elif param.getName() == 'outputIntensity':\n",
    "        parameters[param.getName()] = 'false'\n",
    "    else:\n",
    "        parameters[param.getName()] = param.getDefaultValue()"
   ]
  },
  {
   "cell_type": "code",
   "execution_count": 57,
   "metadata": {},
   "outputs": [
    {
     "name": "stdout",
     "output_type": "stream",
     "text": [
      "Multilook_0\n",
      "TOPSAR-Merge(0)\n"
     ]
    }
   ],
   "source": [
    "index = 0\n",
    "    \n",
    "node_id = 'Multilook_%s' % index\n",
    "    \n",
    "source_node = merge_node\n",
    "    \n",
    "mygraph.add_node(node_id, operator, parameters, source_node)\n",
    "    \n",
    "ml_node = node_id\n",
    "    \n",
    "print(node_id)\n",
    "    \n",
    "print(source_node)"
   ]
  },
  {
   "cell_type": "code",
   "execution_count": 58,
   "metadata": {},
   "outputs": [
    {
     "name": "stdout",
     "output_type": "stream",
     "text": [
      "<graph>\n",
      "  <version>1.0</version>\n",
      "  <node id=\"Read_0\">\n",
      "    <operator>Read</operator>\n",
      "    <sources/>\n",
      "    <parameters class=\"com.bc.ceres.binding.dom.XppDomElement\">\n",
      "      <formatName/>\n",
      "      <file>temp/temp_master_0.dim</file>\n",
      "    </parameters>\n",
      "  </node>\n",
      "  <node id=\"Read_1\">\n",
      "    <operator>Read</operator>\n",
      "    <sources/>\n",
      "    <parameters class=\"com.bc.ceres.binding.dom.XppDomElement\">\n",
      "      <formatName/>\n",
      "      <file>temp/temp_slave_0.dim</file>\n",
      "    </parameters>\n",
      "  </node>\n",
      "  <node id=\"Read_2\">\n",
      "    <operator>Read</operator>\n",
      "    <sources/>\n",
      "    <parameters class=\"com.bc.ceres.binding.dom.XppDomElement\">\n",
      "      <formatName/>\n",
      "      <file>temp/temp_master_1.dim</file>\n",
      "    </parameters>\n",
      "  </node>\n",
      "  <node id=\"Read_3\">\n",
      "    <operator>Read</operator>\n",
      "    <sources/>\n",
      "    <parameters class=\"com.bc.ceres.binding.dom.XppDomElement\">\n",
      "      <formatName/>\n",
      "      <file>temp/temp_slave_1.dim</file>\n",
      "    </parameters>\n",
      "  </node>\n",
      "  <node id=\"Read_4\">\n",
      "    <operator>Read</operator>\n",
      "    <sources/>\n",
      "    <parameters class=\"com.bc.ceres.binding.dom.XppDomElement\">\n",
      "      <formatName/>\n",
      "      <file>temp/temp_master_2.dim</file>\n",
      "    </parameters>\n",
      "  </node>\n",
      "  <node id=\"Read_5\">\n",
      "    <operator>Read</operator>\n",
      "    <sources/>\n",
      "    <parameters class=\"com.bc.ceres.binding.dom.XppDomElement\">\n",
      "      <formatName/>\n",
      "      <file>temp/temp_slave_2.dim</file>\n",
      "    </parameters>\n",
      "  </node>\n",
      "  <node id=\"Back-Geocoding_0\">\n",
      "    <operator>Back-Geocoding</operator>\n",
      "    <sources>\n",
      "      <sourceProduct refid=\"Read_0\"/>\n",
      "      <sourceProduct.1 refid=\"Read_1\"/>\n",
      "    </sources>\n",
      "    <parameters class=\"com.bc.ceres.binding.dom.XppDomElement\">\n",
      "      <outputDerampDemodPhase>false</outputDerampDemodPhase>\n",
      "      <demName>SRTM 3Sec</demName>\n",
      "      <demResamplingMethod>BICUBIC_INTERPOLATION</demResamplingMethod>\n",
      "      <maskOutAreaWithoutElevation>true</maskOutAreaWithoutElevation>\n",
      "      <outputRangeAzimuthOffset>false</outputRangeAzimuthOffset>\n",
      "      <externalDEMNoDataValue>0</externalDEMNoDataValue>\n",
      "      <disableReramp>false</disableReramp>\n",
      "      <externalDEMFile/>\n",
      "      <resamplingType>BISINC_5_POINT_INTERPOLATION</resamplingType>\n",
      "    </parameters>\n",
      "  </node>\n",
      "  <node id=\"Back-Geocoding_1\">\n",
      "    <operator>Back-Geocoding</operator>\n",
      "    <sources>\n",
      "      <sourceProduct refid=\"Read_2\"/>\n",
      "      <sourceProduct.1 refid=\"Read_3\"/>\n",
      "    </sources>\n",
      "    <parameters class=\"com.bc.ceres.binding.dom.XppDomElement\">\n",
      "      <outputDerampDemodPhase>false</outputDerampDemodPhase>\n",
      "      <demName>SRTM 3Sec</demName>\n",
      "      <demResamplingMethod>BICUBIC_INTERPOLATION</demResamplingMethod>\n",
      "      <maskOutAreaWithoutElevation>true</maskOutAreaWithoutElevation>\n",
      "      <outputRangeAzimuthOffset>false</outputRangeAzimuthOffset>\n",
      "      <externalDEMNoDataValue>0</externalDEMNoDataValue>\n",
      "      <disableReramp>false</disableReramp>\n",
      "      <externalDEMFile/>\n",
      "      <resamplingType>BISINC_5_POINT_INTERPOLATION</resamplingType>\n",
      "    </parameters>\n",
      "  </node>\n",
      "  <node id=\"Back-Geocoding_2\">\n",
      "    <operator>Back-Geocoding</operator>\n",
      "    <sources>\n",
      "      <sourceProduct refid=\"Read_4\"/>\n",
      "      <sourceProduct.1 refid=\"Read_5\"/>\n",
      "    </sources>\n",
      "    <parameters class=\"com.bc.ceres.binding.dom.XppDomElement\">\n",
      "      <outputDerampDemodPhase>false</outputDerampDemodPhase>\n",
      "      <demName>SRTM 3Sec</demName>\n",
      "      <demResamplingMethod>BICUBIC_INTERPOLATION</demResamplingMethod>\n",
      "      <maskOutAreaWithoutElevation>true</maskOutAreaWithoutElevation>\n",
      "      <outputRangeAzimuthOffset>false</outputRangeAzimuthOffset>\n",
      "      <externalDEMNoDataValue>0</externalDEMNoDataValue>\n",
      "      <disableReramp>false</disableReramp>\n",
      "      <externalDEMFile/>\n",
      "      <resamplingType>BISINC_5_POINT_INTERPOLATION</resamplingType>\n",
      "    </parameters>\n",
      "  </node>\n",
      "  <node id=\"Coherence_0\">\n",
      "    <operator>Coherence</operator>\n",
      "    <sources>\n",
      "      <sourceProduct refid=\"Back-Geocoding_0\"/>\n",
      "    </sources>\n",
      "    <parameters class=\"com.bc.ceres.binding.dom.XppDomElement\">\n",
      "      <orbitDegree>3</orbitDegree>\n",
      "      <demName>SRTM 3Sec</demName>\n",
      "      <externalDEMFile/>\n",
      "      <srpPolynomialDegree>5</srpPolynomialDegree>\n",
      "      <subtractTopographicPhase>false</subtractTopographicPhase>\n",
      "      <subtractFlatEarthPhase>false</subtractFlatEarthPhase>\n",
      "      <cohWinRg>10</cohWinRg>\n",
      "      <externalDEMApplyEGM>true</externalDEMApplyEGM>\n",
      "      <externalDEMNoDataValue>0</externalDEMNoDataValue>\n",
      "      <tileExtensionPercent>100</tileExtensionPercent>\n",
      "      <srpNumberPoints>501</srpNumberPoints>\n",
      "      <cohWinAz>10</cohWinAz>\n",
      "      <squarePixel>true</squarePixel>\n",
      "    </parameters>\n",
      "  </node>\n",
      "  <node id=\"Coherence_1\">\n",
      "    <operator>Coherence</operator>\n",
      "    <sources>\n",
      "      <sourceProduct refid=\"Back-Geocoding_1\"/>\n",
      "    </sources>\n",
      "    <parameters class=\"com.bc.ceres.binding.dom.XppDomElement\">\n",
      "      <orbitDegree>3</orbitDegree>\n",
      "      <demName>SRTM 3Sec</demName>\n",
      "      <externalDEMFile/>\n",
      "      <srpPolynomialDegree>5</srpPolynomialDegree>\n",
      "      <subtractTopographicPhase>false</subtractTopographicPhase>\n",
      "      <subtractFlatEarthPhase>false</subtractFlatEarthPhase>\n",
      "      <cohWinRg>10</cohWinRg>\n",
      "      <externalDEMApplyEGM>true</externalDEMApplyEGM>\n",
      "      <externalDEMNoDataValue>0</externalDEMNoDataValue>\n",
      "      <tileExtensionPercent>100</tileExtensionPercent>\n",
      "      <srpNumberPoints>501</srpNumberPoints>\n",
      "      <cohWinAz>10</cohWinAz>\n",
      "      <squarePixel>true</squarePixel>\n",
      "    </parameters>\n",
      "  </node>\n",
      "  <node id=\"Coherence_2\">\n",
      "    <operator>Coherence</operator>\n",
      "    <sources>\n",
      "      <sourceProduct refid=\"Back-Geocoding_2\"/>\n",
      "    </sources>\n",
      "    <parameters class=\"com.bc.ceres.binding.dom.XppDomElement\">\n",
      "      <orbitDegree>3</orbitDegree>\n",
      "      <demName>SRTM 3Sec</demName>\n",
      "      <externalDEMFile/>\n",
      "      <srpPolynomialDegree>5</srpPolynomialDegree>\n",
      "      <subtractTopographicPhase>false</subtractTopographicPhase>\n",
      "      <subtractFlatEarthPhase>false</subtractFlatEarthPhase>\n",
      "      <cohWinRg>10</cohWinRg>\n",
      "      <externalDEMApplyEGM>true</externalDEMApplyEGM>\n",
      "      <externalDEMNoDataValue>0</externalDEMNoDataValue>\n",
      "      <tileExtensionPercent>100</tileExtensionPercent>\n",
      "      <srpNumberPoints>501</srpNumberPoints>\n",
      "      <cohWinAz>10</cohWinAz>\n",
      "      <squarePixel>true</squarePixel>\n",
      "    </parameters>\n",
      "  </node>\n",
      "  <node id=\"TOPSAR-Deburst_0\">\n",
      "    <operator>TOPSAR-Deburst</operator>\n",
      "    <sources>\n",
      "      <sourceProduct refid=\"Coherence_0\"/>\n",
      "    </sources>\n",
      "    <parameters class=\"com.bc.ceres.binding.dom.XppDomElement\">\n",
      "      <selectedPolarisations/>\n",
      "    </parameters>\n",
      "  </node>\n",
      "  <node id=\"TOPSAR-Deburst_1\">\n",
      "    <operator>TOPSAR-Deburst</operator>\n",
      "    <sources>\n",
      "      <sourceProduct refid=\"Coherence_1\"/>\n",
      "    </sources>\n",
      "    <parameters class=\"com.bc.ceres.binding.dom.XppDomElement\">\n",
      "      <selectedPolarisations/>\n",
      "    </parameters>\n",
      "  </node>\n",
      "  <node id=\"TOPSAR-Deburst_2\">\n",
      "    <operator>TOPSAR-Deburst</operator>\n",
      "    <sources>\n",
      "      <sourceProduct refid=\"Coherence_2\"/>\n",
      "    </sources>\n",
      "    <parameters class=\"com.bc.ceres.binding.dom.XppDomElement\">\n",
      "      <selectedPolarisations/>\n",
      "    </parameters>\n",
      "  </node>\n",
      "  <node id=\"TOPSAR-Merge(0)\">\n",
      "    <operator>TOPSAR-Merge</operator>\n",
      "    <sources>\n",
      "      <sourceProduct refid=\"TOPSAR-Deburst_0\"/>\n",
      "      <sourceProduct.1 refid=\"TOPSAR-Deburst_1\"/>\n",
      "      <sourceProduct.2 refid=\"TOPSAR-Deburst_2\"/>\n",
      "    </sources>\n",
      "    <parameters class=\"com.bc.ceres.binding.dom.XppDomElement\">\n",
      "      <selectedPolarisations/>\n",
      "    </parameters>\n",
      "  </node>\n",
      "  <node id=\"Multilook_0\">\n",
      "    <operator>Multilook</operator>\n",
      "    <sources>\n",
      "      <sourceProduct refid=\"TOPSAR-Merge(0)\"/>\n",
      "    </sources>\n",
      "    <parameters class=\"com.bc.ceres.binding.dom.XppDomElement\">\n",
      "      <sourceBandNames/>\n",
      "      <grSquarePixel>true</grSquarePixel>\n",
      "      <outputIntensity>false</outputIntensity>\n",
      "      <nRgLooks>4</nRgLooks>\n",
      "      <nAzLooks>1</nAzLooks>\n",
      "    </parameters>\n",
      "  </node>\n",
      "</graph>\n",
      "\n"
     ]
    }
   ],
   "source": [
    "mygraph.view_graph()"
   ]
  },
  {
   "cell_type": "markdown",
   "metadata": {},
   "source": [
    "##### 3.7. Terrain-Correction"
   ]
  },
  {
   "cell_type": "code",
   "execution_count": 59,
   "metadata": {},
   "outputs": [
    {
     "name": "stdout",
     "output_type": "stream",
     "text": [
      "('sourceBandNames', None)\n",
      "('demName', 'SRTM 3Sec')\n",
      "('externalDEMFile', None)\n",
      "('externalDEMNoDataValue', '0')\n",
      "('externalDEMApplyEGM', 'true')\n",
      "('demResamplingMethod', 'BILINEAR_INTERPOLATION')\n",
      "('imgResamplingMethod', 'BILINEAR_INTERPOLATION')\n",
      "('pixelSpacingInMeter', '0')\n",
      "('pixelSpacingInDegree', '0')\n",
      "('mapProjection', 'WGS84(DD)')\n",
      "('alignToStandardGrid', 'false')\n",
      "('standardGridOriginX', '0')\n",
      "('standardGridOriginY', '0')\n",
      "('nodataValueAtSea', 'true')\n",
      "('saveDEM', 'false')\n",
      "('saveLatLon', 'false')\n",
      "('saveIncidenceAngleFromEllipsoid', 'false')\n",
      "('saveLocalIncidenceAngle', 'false')\n",
      "('saveProjectedLocalIncidenceAngle', 'false')\n",
      "('saveSelectedSourceBand', 'true')\n",
      "('outputComplex', 'false')\n",
      "('applyRadiometricNormalization', 'false')\n",
      "('saveSigmaNought', 'false')\n",
      "('saveGammaNought', 'false')\n",
      "('saveBetaNought', 'false')\n",
      "('incidenceAngleForSigma0', 'Use projected local incidence angle from DEM')\n",
      "('incidenceAngleForGamma0', 'Use projected local incidence angle from DEM')\n",
      "('auxFile', 'Latest Auxiliary File')\n",
      "('externalAuxFile', None)\n"
     ]
    }
   ],
   "source": [
    "operator = 'Terrain-Correction'\n",
    "\n",
    "parameters = dict()\n",
    "\n",
    "for param in get_snap_parameters(operator):\n",
    "    \n",
    "    print(param.getName(), param.getDefaultValue())\n",
    "    \n",
    "    parameters[param.getName()] = param.getDefaultValue()\n"
   ]
  },
  {
   "cell_type": "code",
   "execution_count": 60,
   "metadata": {},
   "outputs": [
    {
     "name": "stdout",
     "output_type": "stream",
     "text": [
      "Terrain-Correction\n",
      "Multilook_0\n"
     ]
    }
   ],
   "source": [
    "index = 0\n",
    "\n",
    "node_id = 'Terrain-Correction'\n",
    "\n",
    "source_nodes = ml_node\n",
    "\n",
    "mygraph.add_node(node_id, operator, parameters, source_nodes)\n",
    "\n",
    "terrain_node = node_id\n",
    "\n",
    "print(node_id)\n",
    "    \n",
    "print(source_nodes)\n"
   ]
  },
  {
   "cell_type": "code",
   "execution_count": 61,
   "metadata": {},
   "outputs": [
    {
     "name": "stdout",
     "output_type": "stream",
     "text": [
      "<graph>\n",
      "  <version>1.0</version>\n",
      "  <node id=\"Read_0\">\n",
      "    <operator>Read</operator>\n",
      "    <sources/>\n",
      "    <parameters class=\"com.bc.ceres.binding.dom.XppDomElement\">\n",
      "      <formatName/>\n",
      "      <file>temp/temp_master_0.dim</file>\n",
      "    </parameters>\n",
      "  </node>\n",
      "  <node id=\"Read_1\">\n",
      "    <operator>Read</operator>\n",
      "    <sources/>\n",
      "    <parameters class=\"com.bc.ceres.binding.dom.XppDomElement\">\n",
      "      <formatName/>\n",
      "      <file>temp/temp_slave_0.dim</file>\n",
      "    </parameters>\n",
      "  </node>\n",
      "  <node id=\"Read_2\">\n",
      "    <operator>Read</operator>\n",
      "    <sources/>\n",
      "    <parameters class=\"com.bc.ceres.binding.dom.XppDomElement\">\n",
      "      <formatName/>\n",
      "      <file>temp/temp_master_1.dim</file>\n",
      "    </parameters>\n",
      "  </node>\n",
      "  <node id=\"Read_3\">\n",
      "    <operator>Read</operator>\n",
      "    <sources/>\n",
      "    <parameters class=\"com.bc.ceres.binding.dom.XppDomElement\">\n",
      "      <formatName/>\n",
      "      <file>temp/temp_slave_1.dim</file>\n",
      "    </parameters>\n",
      "  </node>\n",
      "  <node id=\"Read_4\">\n",
      "    <operator>Read</operator>\n",
      "    <sources/>\n",
      "    <parameters class=\"com.bc.ceres.binding.dom.XppDomElement\">\n",
      "      <formatName/>\n",
      "      <file>temp/temp_master_2.dim</file>\n",
      "    </parameters>\n",
      "  </node>\n",
      "  <node id=\"Read_5\">\n",
      "    <operator>Read</operator>\n",
      "    <sources/>\n",
      "    <parameters class=\"com.bc.ceres.binding.dom.XppDomElement\">\n",
      "      <formatName/>\n",
      "      <file>temp/temp_slave_2.dim</file>\n",
      "    </parameters>\n",
      "  </node>\n",
      "  <node id=\"Back-Geocoding_0\">\n",
      "    <operator>Back-Geocoding</operator>\n",
      "    <sources>\n",
      "      <sourceProduct refid=\"Read_0\"/>\n",
      "      <sourceProduct.1 refid=\"Read_1\"/>\n",
      "    </sources>\n",
      "    <parameters class=\"com.bc.ceres.binding.dom.XppDomElement\">\n",
      "      <outputDerampDemodPhase>false</outputDerampDemodPhase>\n",
      "      <demName>SRTM 3Sec</demName>\n",
      "      <demResamplingMethod>BICUBIC_INTERPOLATION</demResamplingMethod>\n",
      "      <maskOutAreaWithoutElevation>true</maskOutAreaWithoutElevation>\n",
      "      <outputRangeAzimuthOffset>false</outputRangeAzimuthOffset>\n",
      "      <externalDEMNoDataValue>0</externalDEMNoDataValue>\n",
      "      <disableReramp>false</disableReramp>\n",
      "      <externalDEMFile/>\n",
      "      <resamplingType>BISINC_5_POINT_INTERPOLATION</resamplingType>\n",
      "    </parameters>\n",
      "  </node>\n",
      "  <node id=\"Back-Geocoding_1\">\n",
      "    <operator>Back-Geocoding</operator>\n",
      "    <sources>\n",
      "      <sourceProduct refid=\"Read_2\"/>\n",
      "      <sourceProduct.1 refid=\"Read_3\"/>\n",
      "    </sources>\n",
      "    <parameters class=\"com.bc.ceres.binding.dom.XppDomElement\">\n",
      "      <outputDerampDemodPhase>false</outputDerampDemodPhase>\n",
      "      <demName>SRTM 3Sec</demName>\n",
      "      <demResamplingMethod>BICUBIC_INTERPOLATION</demResamplingMethod>\n",
      "      <maskOutAreaWithoutElevation>true</maskOutAreaWithoutElevation>\n",
      "      <outputRangeAzimuthOffset>false</outputRangeAzimuthOffset>\n",
      "      <externalDEMNoDataValue>0</externalDEMNoDataValue>\n",
      "      <disableReramp>false</disableReramp>\n",
      "      <externalDEMFile/>\n",
      "      <resamplingType>BISINC_5_POINT_INTERPOLATION</resamplingType>\n",
      "    </parameters>\n",
      "  </node>\n",
      "  <node id=\"Back-Geocoding_2\">\n",
      "    <operator>Back-Geocoding</operator>\n",
      "    <sources>\n",
      "      <sourceProduct refid=\"Read_4\"/>\n",
      "      <sourceProduct.1 refid=\"Read_5\"/>\n",
      "    </sources>\n",
      "    <parameters class=\"com.bc.ceres.binding.dom.XppDomElement\">\n",
      "      <outputDerampDemodPhase>false</outputDerampDemodPhase>\n",
      "      <demName>SRTM 3Sec</demName>\n",
      "      <demResamplingMethod>BICUBIC_INTERPOLATION</demResamplingMethod>\n",
      "      <maskOutAreaWithoutElevation>true</maskOutAreaWithoutElevation>\n",
      "      <outputRangeAzimuthOffset>false</outputRangeAzimuthOffset>\n",
      "      <externalDEMNoDataValue>0</externalDEMNoDataValue>\n",
      "      <disableReramp>false</disableReramp>\n",
      "      <externalDEMFile/>\n",
      "      <resamplingType>BISINC_5_POINT_INTERPOLATION</resamplingType>\n",
      "    </parameters>\n",
      "  </node>\n",
      "  <node id=\"Coherence_0\">\n",
      "    <operator>Coherence</operator>\n",
      "    <sources>\n",
      "      <sourceProduct refid=\"Back-Geocoding_0\"/>\n",
      "    </sources>\n",
      "    <parameters class=\"com.bc.ceres.binding.dom.XppDomElement\">\n",
      "      <orbitDegree>3</orbitDegree>\n",
      "      <demName>SRTM 3Sec</demName>\n",
      "      <externalDEMFile/>\n",
      "      <srpPolynomialDegree>5</srpPolynomialDegree>\n",
      "      <subtractTopographicPhase>false</subtractTopographicPhase>\n",
      "      <subtractFlatEarthPhase>false</subtractFlatEarthPhase>\n",
      "      <cohWinRg>10</cohWinRg>\n",
      "      <externalDEMApplyEGM>true</externalDEMApplyEGM>\n",
      "      <externalDEMNoDataValue>0</externalDEMNoDataValue>\n",
      "      <tileExtensionPercent>100</tileExtensionPercent>\n",
      "      <srpNumberPoints>501</srpNumberPoints>\n",
      "      <cohWinAz>10</cohWinAz>\n",
      "      <squarePixel>true</squarePixel>\n",
      "    </parameters>\n",
      "  </node>\n",
      "  <node id=\"Coherence_1\">\n",
      "    <operator>Coherence</operator>\n",
      "    <sources>\n",
      "      <sourceProduct refid=\"Back-Geocoding_1\"/>\n",
      "    </sources>\n",
      "    <parameters class=\"com.bc.ceres.binding.dom.XppDomElement\">\n",
      "      <orbitDegree>3</orbitDegree>\n",
      "      <demName>SRTM 3Sec</demName>\n",
      "      <externalDEMFile/>\n",
      "      <srpPolynomialDegree>5</srpPolynomialDegree>\n",
      "      <subtractTopographicPhase>false</subtractTopographicPhase>\n",
      "      <subtractFlatEarthPhase>false</subtractFlatEarthPhase>\n",
      "      <cohWinRg>10</cohWinRg>\n",
      "      <externalDEMApplyEGM>true</externalDEMApplyEGM>\n",
      "      <externalDEMNoDataValue>0</externalDEMNoDataValue>\n",
      "      <tileExtensionPercent>100</tileExtensionPercent>\n",
      "      <srpNumberPoints>501</srpNumberPoints>\n",
      "      <cohWinAz>10</cohWinAz>\n",
      "      <squarePixel>true</squarePixel>\n",
      "    </parameters>\n",
      "  </node>\n",
      "  <node id=\"Coherence_2\">\n",
      "    <operator>Coherence</operator>\n",
      "    <sources>\n",
      "      <sourceProduct refid=\"Back-Geocoding_2\"/>\n",
      "    </sources>\n",
      "    <parameters class=\"com.bc.ceres.binding.dom.XppDomElement\">\n",
      "      <orbitDegree>3</orbitDegree>\n",
      "      <demName>SRTM 3Sec</demName>\n",
      "      <externalDEMFile/>\n",
      "      <srpPolynomialDegree>5</srpPolynomialDegree>\n",
      "      <subtractTopographicPhase>false</subtractTopographicPhase>\n",
      "      <subtractFlatEarthPhase>false</subtractFlatEarthPhase>\n",
      "      <cohWinRg>10</cohWinRg>\n",
      "      <externalDEMApplyEGM>true</externalDEMApplyEGM>\n",
      "      <externalDEMNoDataValue>0</externalDEMNoDataValue>\n",
      "      <tileExtensionPercent>100</tileExtensionPercent>\n",
      "      <srpNumberPoints>501</srpNumberPoints>\n",
      "      <cohWinAz>10</cohWinAz>\n",
      "      <squarePixel>true</squarePixel>\n",
      "    </parameters>\n",
      "  </node>\n",
      "  <node id=\"TOPSAR-Deburst_0\">\n",
      "    <operator>TOPSAR-Deburst</operator>\n",
      "    <sources>\n",
      "      <sourceProduct refid=\"Coherence_0\"/>\n",
      "    </sources>\n",
      "    <parameters class=\"com.bc.ceres.binding.dom.XppDomElement\">\n",
      "      <selectedPolarisations/>\n",
      "    </parameters>\n",
      "  </node>\n",
      "  <node id=\"TOPSAR-Deburst_1\">\n",
      "    <operator>TOPSAR-Deburst</operator>\n",
      "    <sources>\n",
      "      <sourceProduct refid=\"Coherence_1\"/>\n",
      "    </sources>\n",
      "    <parameters class=\"com.bc.ceres.binding.dom.XppDomElement\">\n",
      "      <selectedPolarisations/>\n",
      "    </parameters>\n",
      "  </node>\n",
      "  <node id=\"TOPSAR-Deburst_2\">\n",
      "    <operator>TOPSAR-Deburst</operator>\n",
      "    <sources>\n",
      "      <sourceProduct refid=\"Coherence_2\"/>\n",
      "    </sources>\n",
      "    <parameters class=\"com.bc.ceres.binding.dom.XppDomElement\">\n",
      "      <selectedPolarisations/>\n",
      "    </parameters>\n",
      "  </node>\n",
      "  <node id=\"TOPSAR-Merge(0)\">\n",
      "    <operator>TOPSAR-Merge</operator>\n",
      "    <sources>\n",
      "      <sourceProduct refid=\"TOPSAR-Deburst_0\"/>\n",
      "      <sourceProduct.1 refid=\"TOPSAR-Deburst_1\"/>\n",
      "      <sourceProduct.2 refid=\"TOPSAR-Deburst_2\"/>\n",
      "    </sources>\n",
      "    <parameters class=\"com.bc.ceres.binding.dom.XppDomElement\">\n",
      "      <selectedPolarisations/>\n",
      "    </parameters>\n",
      "  </node>\n",
      "  <node id=\"Multilook_0\">\n",
      "    <operator>Multilook</operator>\n",
      "    <sources>\n",
      "      <sourceProduct refid=\"TOPSAR-Merge(0)\"/>\n",
      "    </sources>\n",
      "    <parameters class=\"com.bc.ceres.binding.dom.XppDomElement\">\n",
      "      <sourceBandNames/>\n",
      "      <grSquarePixel>true</grSquarePixel>\n",
      "      <outputIntensity>false</outputIntensity>\n",
      "      <nRgLooks>4</nRgLooks>\n",
      "      <nAzLooks>1</nAzLooks>\n",
      "    </parameters>\n",
      "  </node>\n",
      "  <node id=\"Terrain-Correction\">\n",
      "    <operator>Terrain-Correction</operator>\n",
      "    <sources>\n",
      "      <sourceProduct refid=\"Multilook_0\"/>\n",
      "    </sources>\n",
      "    <parameters class=\"com.bc.ceres.binding.dom.XppDomElement\">\n",
      "      <applyRadiometricNormalization>false</applyRadiometricNormalization>\n",
      "      <saveSigmaNought>false</saveSigmaNought>\n",
      "      <externalDEMFile/>\n",
      "      <saveLocalIncidenceAngle>false</saveLocalIncidenceAngle>\n",
      "      <alignToStandardGrid>false</alignToStandardGrid>\n",
      "      <saveGammaNought>false</saveGammaNought>\n",
      "      <outputComplex>false</outputComplex>\n",
      "      <sourceBandNames/>\n",
      "      <saveIncidenceAngleFromEllipsoid>false</saveIncidenceAngleFromEllipsoid>\n",
      "      <saveProjectedLocalIncidenceAngle>false</saveProjectedLocalIncidenceAngle>\n",
      "      <externalDEMNoDataValue>0</externalDEMNoDataValue>\n",
      "      <mapProjection>WGS84(DD)</mapProjection>\n",
      "      <auxFile>Latest Auxiliary File</auxFile>\n",
      "      <saveDEM>false</saveDEM>\n",
      "      <pixelSpacingInDegree>0</pixelSpacingInDegree>\n",
      "      <incidenceAngleForSigma0>Use projected local incidence angle from DEM</incidenceAngleForSigma0>\n",
      "      <demResamplingMethod>BILINEAR_INTERPOLATION</demResamplingMethod>\n",
      "      <externalAuxFile/>\n",
      "      <saveLatLon>false</saveLatLon>\n",
      "      <saveSelectedSourceBand>true</saveSelectedSourceBand>\n",
      "      <nodataValueAtSea>true</nodataValueAtSea>\n",
      "      <demName>SRTM 3Sec</demName>\n",
      "      <standardGridOriginX>0</standardGridOriginX>\n",
      "      <standardGridOriginY>0</standardGridOriginY>\n",
      "      <pixelSpacingInMeter>0</pixelSpacingInMeter>\n",
      "      <incidenceAngleForGamma0>Use projected local incidence angle from DEM</incidenceAngleForGamma0>\n",
      "      <externalDEMApplyEGM>true</externalDEMApplyEGM>\n",
      "      <saveBetaNought>false</saveBetaNought>\n",
      "      <imgResamplingMethod>BILINEAR_INTERPOLATION</imgResamplingMethod>\n",
      "    </parameters>\n",
      "  </node>\n",
      "</graph>\n",
      "\n"
     ]
    }
   ],
   "source": [
    "mygraph.view_graph()"
   ]
  },
  {
   "cell_type": "markdown",
   "metadata": {},
   "source": [
    "##### 3.8. Write"
   ]
  },
  {
   "cell_type": "code",
   "execution_count": 62,
   "metadata": {},
   "outputs": [
    {
     "name": "stdout",
     "output_type": "stream",
     "text": [
      "('file', 'temp/temp_merge')\n",
      "('formatName', 'BEAM-DIMAP')\n",
      "('deleteOutputOnFailure', 'true')\n",
      "('writeEntireTileRows', 'true')\n",
      "('clearCacheAfterRowWrite', 'false')\n"
     ]
    }
   ],
   "source": [
    "operator = 'Write'\n",
    "\n",
    "output_name = os.path.join(temp_folder, 'temp_merge')\n",
    "\n",
    "parameters = dict()\n",
    "\n",
    "for param in get_snap_parameters(operator):\n",
    "    \n",
    "    if param.getName() == 'file':\n",
    "        \n",
    "        param_value = output_name\n",
    "             \n",
    "    elif param.getName() == 'formatName':\n",
    "                \n",
    "        param_value = 'BEAM-DIMAP'\n",
    "        \n",
    "    else:\n",
    "    \n",
    "        param_value = param.getDefaultValue()\n",
    "    \n",
    "    \n",
    "    print (param.getName(), param_value)\n",
    "    \n",
    "    parameters[param.getName()] = param_value"
   ]
  },
  {
   "cell_type": "code",
   "execution_count": 63,
   "metadata": {},
   "outputs": [],
   "source": [
    "mygraph.add_node(operator, \n",
    "             operator, \n",
    "             parameters,\n",
    "             terrain_node)"
   ]
  },
  {
   "cell_type": "code",
   "execution_count": 64,
   "metadata": {},
   "outputs": [
    {
     "name": "stdout",
     "output_type": "stream",
     "text": [
      "<graph>\n",
      "  <version>1.0</version>\n",
      "  <node id=\"Read_0\">\n",
      "    <operator>Read</operator>\n",
      "    <sources/>\n",
      "    <parameters class=\"com.bc.ceres.binding.dom.XppDomElement\">\n",
      "      <formatName/>\n",
      "      <file>temp/temp_master_0.dim</file>\n",
      "    </parameters>\n",
      "  </node>\n",
      "  <node id=\"Read_1\">\n",
      "    <operator>Read</operator>\n",
      "    <sources/>\n",
      "    <parameters class=\"com.bc.ceres.binding.dom.XppDomElement\">\n",
      "      <formatName/>\n",
      "      <file>temp/temp_slave_0.dim</file>\n",
      "    </parameters>\n",
      "  </node>\n",
      "  <node id=\"Read_2\">\n",
      "    <operator>Read</operator>\n",
      "    <sources/>\n",
      "    <parameters class=\"com.bc.ceres.binding.dom.XppDomElement\">\n",
      "      <formatName/>\n",
      "      <file>temp/temp_master_1.dim</file>\n",
      "    </parameters>\n",
      "  </node>\n",
      "  <node id=\"Read_3\">\n",
      "    <operator>Read</operator>\n",
      "    <sources/>\n",
      "    <parameters class=\"com.bc.ceres.binding.dom.XppDomElement\">\n",
      "      <formatName/>\n",
      "      <file>temp/temp_slave_1.dim</file>\n",
      "    </parameters>\n",
      "  </node>\n",
      "  <node id=\"Read_4\">\n",
      "    <operator>Read</operator>\n",
      "    <sources/>\n",
      "    <parameters class=\"com.bc.ceres.binding.dom.XppDomElement\">\n",
      "      <formatName/>\n",
      "      <file>temp/temp_master_2.dim</file>\n",
      "    </parameters>\n",
      "  </node>\n",
      "  <node id=\"Read_5\">\n",
      "    <operator>Read</operator>\n",
      "    <sources/>\n",
      "    <parameters class=\"com.bc.ceres.binding.dom.XppDomElement\">\n",
      "      <formatName/>\n",
      "      <file>temp/temp_slave_2.dim</file>\n",
      "    </parameters>\n",
      "  </node>\n",
      "  <node id=\"Back-Geocoding_0\">\n",
      "    <operator>Back-Geocoding</operator>\n",
      "    <sources>\n",
      "      <sourceProduct refid=\"Read_0\"/>\n",
      "      <sourceProduct.1 refid=\"Read_1\"/>\n",
      "    </sources>\n",
      "    <parameters class=\"com.bc.ceres.binding.dom.XppDomElement\">\n",
      "      <outputDerampDemodPhase>false</outputDerampDemodPhase>\n",
      "      <demName>SRTM 3Sec</demName>\n",
      "      <demResamplingMethod>BICUBIC_INTERPOLATION</demResamplingMethod>\n",
      "      <maskOutAreaWithoutElevation>true</maskOutAreaWithoutElevation>\n",
      "      <outputRangeAzimuthOffset>false</outputRangeAzimuthOffset>\n",
      "      <externalDEMNoDataValue>0</externalDEMNoDataValue>\n",
      "      <disableReramp>false</disableReramp>\n",
      "      <externalDEMFile/>\n",
      "      <resamplingType>BISINC_5_POINT_INTERPOLATION</resamplingType>\n",
      "    </parameters>\n",
      "  </node>\n",
      "  <node id=\"Back-Geocoding_1\">\n",
      "    <operator>Back-Geocoding</operator>\n",
      "    <sources>\n",
      "      <sourceProduct refid=\"Read_2\"/>\n",
      "      <sourceProduct.1 refid=\"Read_3\"/>\n",
      "    </sources>\n",
      "    <parameters class=\"com.bc.ceres.binding.dom.XppDomElement\">\n",
      "      <outputDerampDemodPhase>false</outputDerampDemodPhase>\n",
      "      <demName>SRTM 3Sec</demName>\n",
      "      <demResamplingMethod>BICUBIC_INTERPOLATION</demResamplingMethod>\n",
      "      <maskOutAreaWithoutElevation>true</maskOutAreaWithoutElevation>\n",
      "      <outputRangeAzimuthOffset>false</outputRangeAzimuthOffset>\n",
      "      <externalDEMNoDataValue>0</externalDEMNoDataValue>\n",
      "      <disableReramp>false</disableReramp>\n",
      "      <externalDEMFile/>\n",
      "      <resamplingType>BISINC_5_POINT_INTERPOLATION</resamplingType>\n",
      "    </parameters>\n",
      "  </node>\n",
      "  <node id=\"Back-Geocoding_2\">\n",
      "    <operator>Back-Geocoding</operator>\n",
      "    <sources>\n",
      "      <sourceProduct refid=\"Read_4\"/>\n",
      "      <sourceProduct.1 refid=\"Read_5\"/>\n",
      "    </sources>\n",
      "    <parameters class=\"com.bc.ceres.binding.dom.XppDomElement\">\n",
      "      <outputDerampDemodPhase>false</outputDerampDemodPhase>\n",
      "      <demName>SRTM 3Sec</demName>\n",
      "      <demResamplingMethod>BICUBIC_INTERPOLATION</demResamplingMethod>\n",
      "      <maskOutAreaWithoutElevation>true</maskOutAreaWithoutElevation>\n",
      "      <outputRangeAzimuthOffset>false</outputRangeAzimuthOffset>\n",
      "      <externalDEMNoDataValue>0</externalDEMNoDataValue>\n",
      "      <disableReramp>false</disableReramp>\n",
      "      <externalDEMFile/>\n",
      "      <resamplingType>BISINC_5_POINT_INTERPOLATION</resamplingType>\n",
      "    </parameters>\n",
      "  </node>\n",
      "  <node id=\"Coherence_0\">\n",
      "    <operator>Coherence</operator>\n",
      "    <sources>\n",
      "      <sourceProduct refid=\"Back-Geocoding_0\"/>\n",
      "    </sources>\n",
      "    <parameters class=\"com.bc.ceres.binding.dom.XppDomElement\">\n",
      "      <orbitDegree>3</orbitDegree>\n",
      "      <demName>SRTM 3Sec</demName>\n",
      "      <externalDEMFile/>\n",
      "      <srpPolynomialDegree>5</srpPolynomialDegree>\n",
      "      <subtractTopographicPhase>false</subtractTopographicPhase>\n",
      "      <subtractFlatEarthPhase>false</subtractFlatEarthPhase>\n",
      "      <cohWinRg>10</cohWinRg>\n",
      "      <externalDEMApplyEGM>true</externalDEMApplyEGM>\n",
      "      <externalDEMNoDataValue>0</externalDEMNoDataValue>\n",
      "      <tileExtensionPercent>100</tileExtensionPercent>\n",
      "      <srpNumberPoints>501</srpNumberPoints>\n",
      "      <cohWinAz>10</cohWinAz>\n",
      "      <squarePixel>true</squarePixel>\n",
      "    </parameters>\n",
      "  </node>\n",
      "  <node id=\"Coherence_1\">\n",
      "    <operator>Coherence</operator>\n",
      "    <sources>\n",
      "      <sourceProduct refid=\"Back-Geocoding_1\"/>\n",
      "    </sources>\n",
      "    <parameters class=\"com.bc.ceres.binding.dom.XppDomElement\">\n",
      "      <orbitDegree>3</orbitDegree>\n",
      "      <demName>SRTM 3Sec</demName>\n",
      "      <externalDEMFile/>\n",
      "      <srpPolynomialDegree>5</srpPolynomialDegree>\n",
      "      <subtractTopographicPhase>false</subtractTopographicPhase>\n",
      "      <subtractFlatEarthPhase>false</subtractFlatEarthPhase>\n",
      "      <cohWinRg>10</cohWinRg>\n",
      "      <externalDEMApplyEGM>true</externalDEMApplyEGM>\n",
      "      <externalDEMNoDataValue>0</externalDEMNoDataValue>\n",
      "      <tileExtensionPercent>100</tileExtensionPercent>\n",
      "      <srpNumberPoints>501</srpNumberPoints>\n",
      "      <cohWinAz>10</cohWinAz>\n",
      "      <squarePixel>true</squarePixel>\n",
      "    </parameters>\n",
      "  </node>\n",
      "  <node id=\"Coherence_2\">\n",
      "    <operator>Coherence</operator>\n",
      "    <sources>\n",
      "      <sourceProduct refid=\"Back-Geocoding_2\"/>\n",
      "    </sources>\n",
      "    <parameters class=\"com.bc.ceres.binding.dom.XppDomElement\">\n",
      "      <orbitDegree>3</orbitDegree>\n",
      "      <demName>SRTM 3Sec</demName>\n",
      "      <externalDEMFile/>\n",
      "      <srpPolynomialDegree>5</srpPolynomialDegree>\n",
      "      <subtractTopographicPhase>false</subtractTopographicPhase>\n",
      "      <subtractFlatEarthPhase>false</subtractFlatEarthPhase>\n",
      "      <cohWinRg>10</cohWinRg>\n",
      "      <externalDEMApplyEGM>true</externalDEMApplyEGM>\n",
      "      <externalDEMNoDataValue>0</externalDEMNoDataValue>\n",
      "      <tileExtensionPercent>100</tileExtensionPercent>\n",
      "      <srpNumberPoints>501</srpNumberPoints>\n",
      "      <cohWinAz>10</cohWinAz>\n",
      "      <squarePixel>true</squarePixel>\n",
      "    </parameters>\n",
      "  </node>\n",
      "  <node id=\"TOPSAR-Deburst_0\">\n",
      "    <operator>TOPSAR-Deburst</operator>\n",
      "    <sources>\n",
      "      <sourceProduct refid=\"Coherence_0\"/>\n",
      "    </sources>\n",
      "    <parameters class=\"com.bc.ceres.binding.dom.XppDomElement\">\n",
      "      <selectedPolarisations/>\n",
      "    </parameters>\n",
      "  </node>\n",
      "  <node id=\"TOPSAR-Deburst_1\">\n",
      "    <operator>TOPSAR-Deburst</operator>\n",
      "    <sources>\n",
      "      <sourceProduct refid=\"Coherence_1\"/>\n",
      "    </sources>\n",
      "    <parameters class=\"com.bc.ceres.binding.dom.XppDomElement\">\n",
      "      <selectedPolarisations/>\n",
      "    </parameters>\n",
      "  </node>\n",
      "  <node id=\"TOPSAR-Deburst_2\">\n",
      "    <operator>TOPSAR-Deburst</operator>\n",
      "    <sources>\n",
      "      <sourceProduct refid=\"Coherence_2\"/>\n",
      "    </sources>\n",
      "    <parameters class=\"com.bc.ceres.binding.dom.XppDomElement\">\n",
      "      <selectedPolarisations/>\n",
      "    </parameters>\n",
      "  </node>\n",
      "  <node id=\"TOPSAR-Merge(0)\">\n",
      "    <operator>TOPSAR-Merge</operator>\n",
      "    <sources>\n",
      "      <sourceProduct refid=\"TOPSAR-Deburst_0\"/>\n",
      "      <sourceProduct.1 refid=\"TOPSAR-Deburst_1\"/>\n",
      "      <sourceProduct.2 refid=\"TOPSAR-Deburst_2\"/>\n",
      "    </sources>\n",
      "    <parameters class=\"com.bc.ceres.binding.dom.XppDomElement\">\n",
      "      <selectedPolarisations/>\n",
      "    </parameters>\n",
      "  </node>\n",
      "  <node id=\"Multilook_0\">\n",
      "    <operator>Multilook</operator>\n",
      "    <sources>\n",
      "      <sourceProduct refid=\"TOPSAR-Merge(0)\"/>\n",
      "    </sources>\n",
      "    <parameters class=\"com.bc.ceres.binding.dom.XppDomElement\">\n",
      "      <sourceBandNames/>\n",
      "      <grSquarePixel>true</grSquarePixel>\n",
      "      <outputIntensity>false</outputIntensity>\n",
      "      <nRgLooks>4</nRgLooks>\n",
      "      <nAzLooks>1</nAzLooks>\n",
      "    </parameters>\n",
      "  </node>\n",
      "  <node id=\"Terrain-Correction\">\n",
      "    <operator>Terrain-Correction</operator>\n",
      "    <sources>\n",
      "      <sourceProduct refid=\"Multilook_0\"/>\n",
      "    </sources>\n",
      "    <parameters class=\"com.bc.ceres.binding.dom.XppDomElement\">\n",
      "      <applyRadiometricNormalization>false</applyRadiometricNormalization>\n",
      "      <saveSigmaNought>false</saveSigmaNought>\n",
      "      <externalDEMFile/>\n",
      "      <saveLocalIncidenceAngle>false</saveLocalIncidenceAngle>\n",
      "      <alignToStandardGrid>false</alignToStandardGrid>\n",
      "      <saveGammaNought>false</saveGammaNought>\n",
      "      <outputComplex>false</outputComplex>\n",
      "      <sourceBandNames/>\n",
      "      <saveIncidenceAngleFromEllipsoid>false</saveIncidenceAngleFromEllipsoid>\n",
      "      <saveProjectedLocalIncidenceAngle>false</saveProjectedLocalIncidenceAngle>\n",
      "      <externalDEMNoDataValue>0</externalDEMNoDataValue>\n",
      "      <mapProjection>WGS84(DD)</mapProjection>\n",
      "      <auxFile>Latest Auxiliary File</auxFile>\n",
      "      <saveDEM>false</saveDEM>\n",
      "      <pixelSpacingInDegree>0</pixelSpacingInDegree>\n",
      "      <incidenceAngleForSigma0>Use projected local incidence angle from DEM</incidenceAngleForSigma0>\n",
      "      <demResamplingMethod>BILINEAR_INTERPOLATION</demResamplingMethod>\n",
      "      <externalAuxFile/>\n",
      "      <saveLatLon>false</saveLatLon>\n",
      "      <saveSelectedSourceBand>true</saveSelectedSourceBand>\n",
      "      <nodataValueAtSea>true</nodataValueAtSea>\n",
      "      <demName>SRTM 3Sec</demName>\n",
      "      <standardGridOriginX>0</standardGridOriginX>\n",
      "      <standardGridOriginY>0</standardGridOriginY>\n",
      "      <pixelSpacingInMeter>0</pixelSpacingInMeter>\n",
      "      <incidenceAngleForGamma0>Use projected local incidence angle from DEM</incidenceAngleForGamma0>\n",
      "      <externalDEMApplyEGM>true</externalDEMApplyEGM>\n",
      "      <saveBetaNought>false</saveBetaNought>\n",
      "      <imgResamplingMethod>BILINEAR_INTERPOLATION</imgResamplingMethod>\n",
      "    </parameters>\n",
      "  </node>\n",
      "  <node id=\"Write\">\n",
      "    <operator>Write</operator>\n",
      "    <sources>\n",
      "      <sourceProduct refid=\"Terrain-Correction\"/>\n",
      "    </sources>\n",
      "    <parameters class=\"com.bc.ceres.binding.dom.XppDomElement\">\n",
      "      <deleteOutputOnFailure>true</deleteOutputOnFailure>\n",
      "      <clearCacheAfterRowWrite>false</clearCacheAfterRowWrite>\n",
      "      <formatName>BEAM-DIMAP</formatName>\n",
      "      <writeEntireTileRows>true</writeEntireTileRows>\n",
      "      <file>temp/temp_merge</file>\n",
      "    </parameters>\n",
      "  </node>\n",
      "</graph>\n",
      "\n"
     ]
    }
   ],
   "source": [
    "mygraph.view_graph() "
   ]
  },
  {
   "cell_type": "code",
   "execution_count": null,
   "metadata": {},
   "outputs": [
    {
     "name": "stdout",
     "output_type": "stream",
     "text": [
      "2209\n"
     ]
    }
   ],
   "source": [
    "mygraph.run()"
   ]
  },
  {
   "cell_type": "markdown",
   "metadata": {},
   "source": [
    "#### Write result in GeoTIFF"
   ]
  },
  {
   "cell_type": "code",
   "execution_count": null,
   "metadata": {},
   "outputs": [],
   "source": [
    "output_name = 'coherence'\n",
    "\n",
    "reader = ProductIO.getProductReader(\"BEAM-DIMAP\")\n",
    "\n",
    "b0ch = reader.readProductNodes(output_name + '.dim', None)"
   ]
  },
  {
   "cell_type": "code",
   "execution_count": null,
   "metadata": {},
   "outputs": [],
   "source": [
    "temp_tif_name = os.path.join(temp_folder, output_name + '.tif')\n",
    "\n",
    "ProductIO.wrfiteProduct(b0ch, \n",
    "                       temp_tif_name,\n",
    "                       'GeoTIFF-BigTiff')"
   ]
  },
  {
   "cell_type": "code",
   "execution_count": null,
   "metadata": {},
   "outputs": [],
   "source": [
    "crop_image(temp_tif_name,regionOfInterest['value'], output_path)"
   ]
  },
  {
   "cell_type": "markdown",
   "metadata": {},
   "source": [
    "##### 4.1. Read slave and master products"
   ]
  },
  {
   "cell_type": "code",
   "execution_count": null,
   "metadata": {},
   "outputs": [],
   "source": [
    "mygraph = GraphProcessor()"
   ]
  },
  {
   "cell_type": "code",
   "execution_count": null,
   "metadata": {
    "collapsed": false,
    "slideshow": {
     "slide_type": "subslide"
    }
   },
   "outputs": [],
   "source": [
    "master_value = master['value']\n",
    "\n",
    "if master_value== 'True':\n",
    "\n",
    "    k = 0\n",
    "\n",
    "    read_nodes_list = []\n",
    "\n",
    "    for master in params_list_master:\n",
    "        input_products = [master['file'] + '.dim']\n",
    "\n",
    "        operator = 'Read'\n",
    "\n",
    "        read_nodes = []\n",
    "\n",
    "        for index, identifier in enumerate(input_products):\n",
    "\n",
    "            parameters = dict()\n",
    "\n",
    "            for param in get_snap_parameters(operator):\n",
    "\n",
    "                if param.getName() == 'file':\n",
    "                    parameters[param.getName()] = identifier\n",
    "                else:\n",
    "                    parameters[param.getName()] = param.getDefaultValue()\n",
    "            node_id = 'Read_%s' % (index + k)\n",
    "\n",
    "            read_nodes.append(node_id)\n",
    "\n",
    "            print ('-----')\n",
    "            print (node_id)\n",
    "            print(parameters)\n",
    "\n",
    "            mygraph.add_node(node_id, 'Read', parameters, '')\n",
    "\n",
    "        read_nodes_list.append(read_nodes)\n",
    "\n",
    "        k = k + 1\n"
   ]
  },
  {
   "cell_type": "code",
   "execution_count": null,
   "metadata": {},
   "outputs": [],
   "source": [
    "mygraph.view_graph()"
   ]
  },
  {
   "cell_type": "markdown",
   "metadata": {},
   "source": [
    "4.2. ThermalNoiseRemoval"
   ]
  },
  {
   "cell_type": "code",
   "execution_count": null,
   "metadata": {},
   "outputs": [],
   "source": [
    "operator = 'ThermalNoiseRemoval'\n",
    "\n",
    "parameters = dict()\n",
    "\n",
    "for param in get_snap_parameters(operator):\n",
    "    \n",
    "    print(param.getName(), param.getDefaultValue())\n",
    "    \n",
    "    parameters[param.getName()] = param.getDefaultValue()"
   ]
  },
  {
   "cell_type": "code",
   "execution_count": null,
   "metadata": {},
   "outputs": [],
   "source": [
    "master_value = master['value']\n",
    "\n",
    "if master_value== 'True':\n",
    "    \n",
    "    index = 0\n",
    "    cor_nodes_list = []\n",
    "\n",
    "    for node in read_nodes_list:\n",
    "        cor_nodes = []\n",
    "\n",
    "        node_id = 'ThermalNoiseRemoval_%s' % index\n",
    "\n",
    "        source_nodes = read_nodes\n",
    "\n",
    "        mygraph.add_node(node_id, operator, parameters, node)\n",
    "\n",
    "        cor_nodes.append(node_id)\n",
    "\n",
    "        print(node_id)\n",
    "\n",
    "        print(node)\n",
    "\n",
    "        index = index + 1 \n",
    "\n",
    "        cor_nodes_list.append(cor_nodes)"
   ]
  },
  {
   "cell_type": "code",
   "execution_count": null,
   "metadata": {},
   "outputs": [],
   "source": [
    "mygraph.view_graph()"
   ]
  },
  {
   "cell_type": "markdown",
   "metadata": {},
   "source": [
    "##### 4.3. Calibration"
   ]
  },
  {
   "cell_type": "code",
   "execution_count": null,
   "metadata": {},
   "outputs": [],
   "source": [
    "operator = 'Calibration'\n",
    "\n",
    "parameters = dict()\n",
    "\n",
    "for param in get_snap_parameters(operator):\n",
    "    \n",
    "    print(param.getName(), param.getDefaultValue())\n",
    "    \n",
    "    if param.getName() == 'outputSigmaBand':\n",
    "        parameters[param.getName()] = 'true'\n",
    "    elif param.getName() == 'outputBetaBand':\n",
    "        parameters[param.getName()] = 'false'      \n",
    "    else:\n",
    "        parameters[param.getName()] = param.getDefaultValue()"
   ]
  },
  {
   "cell_type": "code",
   "execution_count": null,
   "metadata": {},
   "outputs": [],
   "source": [
    "master_value = master['value']\n",
    "\n",
    "if master_value== 'True':\n",
    "    \n",
    "    index = 0\n",
    "    fil_nodes_list = []\n",
    "\n",
    "    for node in cor_nodes_list:\n",
    "        node_id = 'Calibration_%s' % index\n",
    "\n",
    "        fil_nodes = []\n",
    "\n",
    "        source_nodes = cor_nodes\n",
    "\n",
    "        mygraph.add_node(node_id, operator, parameters, node)\n",
    "\n",
    "        fil_nodes.append(node_id)\n",
    "\n",
    "        print(node_id)\n",
    "\n",
    "        print(node)\n",
    "\n",
    "        fil_nodes_list.append(fil_nodes)\n",
    "\n",
    "        index = index + 1"
   ]
  },
  {
   "cell_type": "code",
   "execution_count": null,
   "metadata": {},
   "outputs": [],
   "source": [
    "mygraph.view_graph()"
   ]
  },
  {
   "cell_type": "markdown",
   "metadata": {},
   "source": [
    "##### 4.4. TOPSAR-Deburst"
   ]
  },
  {
   "cell_type": "code",
   "execution_count": null,
   "metadata": {},
   "outputs": [],
   "source": [
    "operator = 'TOPSAR-Deburst'\n",
    "\n",
    "parameters = dict()\n",
    "\n",
    "for param in get_snap_parameters(operator):\n",
    "    \n",
    "    print(param.getName(), param.getDefaultValue())\n",
    "    parameters[param.getName()] = param.getDefaultValue()"
   ]
  },
  {
   "cell_type": "code",
   "execution_count": null,
   "metadata": {},
   "outputs": [],
   "source": [
    "master_value = master['value']\n",
    "\n",
    "if master_value== 'True':\n",
    "    \n",
    "    index = 0\n",
    "    deb_nodes_list = []\n",
    "\n",
    "    for node in fil_nodes_list:\n",
    "\n",
    "        node_id = 'TOPSAR-Deburst_%s' % index\n",
    "\n",
    "        deb_nodes = []\n",
    "\n",
    "        source_node = deb_nodes\n",
    "\n",
    "        mygraph.add_node(node_id, operator, parameters, node)\n",
    "\n",
    "        deb_nodes.append(node_id)\n",
    "\n",
    "        print(node_id)\n",
    "\n",
    "        print(node)\n",
    "\n",
    "        deb_nodes_list.append(deb_nodes)\n",
    "\n",
    "        index = index + 1"
   ]
  },
  {
   "cell_type": "code",
   "execution_count": null,
   "metadata": {},
   "outputs": [],
   "source": [
    "mygraph.view_graph()"
   ]
  },
  {
   "cell_type": "markdown",
   "metadata": {},
   "source": [
    "##### 4.5. TOPSAR-Merge"
   ]
  },
  {
   "cell_type": "code",
   "execution_count": null,
   "metadata": {},
   "outputs": [],
   "source": [
    "operator = 'TOPSAR-Merge'\n",
    "\n",
    "parameters = dict()\n",
    "\n",
    "for param in get_snap_parameters(operator):\n",
    "    \n",
    "    print(param.getName(), param.getDefaultValue())\n",
    "    parameters[param.getName()] = param.getDefaultValue()"
   ]
  },
  {
   "cell_type": "code",
   "execution_count": null,
   "metadata": {},
   "outputs": [],
   "source": [
    "master_value = master['value']\n",
    "\n",
    "if master_value== 'True':\n",
    "    \n",
    "    merge_nodes = []\n",
    "\n",
    "    node_id = 'TOPSAR-Merge(%s)' % str(0)\n",
    "\n",
    "    source_nodes = []\n",
    "\n",
    "    for index, deb_node in enumerate(deb_nodes_list):\n",
    "\n",
    "        source_nodes.append(deb_node[0])\n",
    "\n",
    "    mygraph.add_node(node_id, operator, parameters, source_nodes)\n",
    "\n",
    "    merge_node = node_id\n",
    "\n",
    "    print(node_id)\n",
    "\n",
    "    print(source_nodes)"
   ]
  },
  {
   "cell_type": "code",
   "execution_count": null,
   "metadata": {},
   "outputs": [],
   "source": [
    "mygraph.view_graph()"
   ]
  },
  {
   "cell_type": "markdown",
   "metadata": {},
   "source": [
    "##### 4.6. Multilook"
   ]
  },
  {
   "cell_type": "code",
   "execution_count": null,
   "metadata": {},
   "outputs": [],
   "source": [
    "operator = 'Multilook'\n",
    "\n",
    "parameters = dict()\n",
    "\n",
    "for param in get_snap_parameters(operator):\n",
    "    \n",
    "    print(param.getName(), param.getDefaultValue())\n",
    "    \n",
    "    if param.getName() == 'nRgLooks':\n",
    "        parameters[param.getName()] = '4'\n",
    "    elif param.getName() == 'outputIntensity':\n",
    "        parameters[param.getName()] = 'false'\n",
    "    else:\n",
    "        parameters[param.getName()] = param.getDefaultValue()"
   ]
  },
  {
   "cell_type": "code",
   "execution_count": null,
   "metadata": {},
   "outputs": [],
   "source": [
    "master_value = master['value']\n",
    "\n",
    "if master_value== 'True':\n",
    "    \n",
    "    index = 0\n",
    "\n",
    "    node_id = 'Multilook_%s' % index\n",
    "\n",
    "    source_node = merge_node\n",
    "\n",
    "    mygraph.add_node(node_id, operator, parameters, source_node)\n",
    "\n",
    "    ml_node = node_id\n",
    "\n",
    "    print(node_id)\n",
    "\n",
    "    print(source_node)"
   ]
  },
  {
   "cell_type": "code",
   "execution_count": null,
   "metadata": {},
   "outputs": [],
   "source": [
    "mygraph.view_graph()"
   ]
  },
  {
   "cell_type": "markdown",
   "metadata": {},
   "source": [
    "##### 4.7. Terrain-Correction"
   ]
  },
  {
   "cell_type": "code",
   "execution_count": null,
   "metadata": {},
   "outputs": [],
   "source": [
    "operator = 'Terrain-Correction'\n",
    "\n",
    "parameters = dict()\n",
    "\n",
    "for param in get_snap_parameters(operator):\n",
    "    \n",
    "    print(param.getName(), param.getDefaultValue())\n",
    "    \n",
    "    parameters[param.getName()] = param.getDefaultValue()\n"
   ]
  },
  {
   "cell_type": "code",
   "execution_count": null,
   "metadata": {},
   "outputs": [],
   "source": [
    "master_value = master['value']\n",
    "\n",
    "if master_value== 'True':\n",
    "\n",
    "    index = 0\n",
    "\n",
    "    node_id = 'Terrain-Correction'\n",
    "\n",
    "    source_nodes = ml_node\n",
    "\n",
    "    mygraph.add_node(node_id, operator, parameters, source_nodes)\n",
    "\n",
    "    terrain_node = node_id\n",
    "\n",
    "    print(node_id)\n",
    "\n",
    "    print(source_nodes)\n"
   ]
  },
  {
   "cell_type": "code",
   "execution_count": null,
   "metadata": {},
   "outputs": [],
   "source": [
    "mygraph.view_graph()"
   ]
  },
  {
   "cell_type": "markdown",
   "metadata": {},
   "source": [
    "##### 4.8. Write"
   ]
  },
  {
   "cell_type": "code",
   "execution_count": null,
   "metadata": {},
   "outputs": [],
   "source": [
    "master_value = master['value']\n",
    "\n",
    "if master_value== 'True':\n",
    "    \n",
    "    operator = 'Write'\n",
    "\n",
    "    output_name = os.path.join(temp_folder, 'temp_master_intensity')\n",
    "\n",
    "    parameters = dict()\n",
    "\n",
    "    for param in get_snap_parameters(operator):\n",
    "\n",
    "        if param.getName() == 'file':\n",
    "\n",
    "            param_value = output_name\n",
    "\n",
    "        elif param.getName() == 'formatName':\n",
    "\n",
    "            param_value = 'BEAM-DIMAP'\n",
    "\n",
    "        else:\n",
    "\n",
    "            param_value = param.getDefaultValue()\n",
    "\n",
    "\n",
    "        print (param.getName(), param_value)\n",
    "\n",
    "        parameters[param.getName()] = param_value"
   ]
  },
  {
   "cell_type": "code",
   "execution_count": null,
   "metadata": {},
   "outputs": [],
   "source": [
    "master_value = master['value']\n",
    "\n",
    "if master_value== 'True':\n",
    "    \n",
    "    mygraph.add_node(operator, \n",
    "                 operator, \n",
    "                 parameters,\n",
    "                 terrain_node)"
   ]
  },
  {
   "cell_type": "code",
   "execution_count": null,
   "metadata": {},
   "outputs": [],
   "source": [
    "mygraph.view_graph() "
   ]
  },
  {
   "cell_type": "code",
   "execution_count": null,
   "metadata": {},
   "outputs": [],
   "source": [
    "mygraph.run() "
   ]
  },
  {
   "cell_type": "markdown",
   "metadata": {},
   "source": [
    "#### Write result in GeoTIFF"
   ]
  },
  {
   "cell_type": "code",
   "execution_count": null,
   "metadata": {},
   "outputs": [],
   "source": [
    "output_name = 'intensity_master'\n",
    "\n",
    "reader = ProductIO.getProductReader(\"BEAM-DIMAP\")\n",
    "\n",
    "b0ch = reader.readProductNodes(output_name + '.dim', None)"
   ]
  },
  {
   "cell_type": "code",
   "execution_count": null,
   "metadata": {},
   "outputs": [],
   "source": [
    "temp_tif_name = os.path.join(temp_folder, output_name + '.tif')\n",
    "\n",
    "ProductIO.writeProduct(b0ch, \n",
    "                       temp_tif_name,\n",
    "                       'GeoTIFF-BigTiff')"
   ]
  },
  {
   "cell_type": "code",
   "execution_count": null,
   "metadata": {},
   "outputs": [],
   "source": [
    "crop_image(temp_tif_name,regionOfInterest['value'], output_path)"
   ]
  },
  {
   "cell_type": "markdown",
   "metadata": {},
   "source": [
    "##### 5.1. Read slave products"
   ]
  },
  {
   "cell_type": "code",
   "execution_count": null,
   "metadata": {},
   "outputs": [],
   "source": [
    "mygraph = GraphProcessor()"
   ]
  },
  {
   "cell_type": "code",
   "execution_count": null,
   "metadata": {
    "collapsed": false,
    "slideshow": {
     "slide_type": "subslide"
    }
   },
   "outputs": [],
   "source": [
    "slave_value = slave['value']\n",
    "\n",
    "if slave_value== 'True':\n",
    "\n",
    "    k = 0\n",
    "\n",
    "    read_nodes_list = []\n",
    "\n",
    "    for slave in params_list_slave:\n",
    "        input_products = [master['file'] + '.dim']\n",
    "\n",
    "        operator = 'Read'\n",
    "\n",
    "        read_nodes = []\n",
    "\n",
    "        for index, identifier in enumerate(input_products):\n",
    "\n",
    "            parameters = dict()\n",
    "\n",
    "            for param in get_snap_parameters(operator):\n",
    "\n",
    "                if param.getName() == 'file':\n",
    "                    parameters[param.getName()] = identifier\n",
    "                else:\n",
    "                    parameters[param.getName()] = param.getDefaultValue()\n",
    "            node_id = 'Read_%s' % (index + k)\n",
    "\n",
    "            read_nodes.append(node_id)\n",
    "\n",
    "            print ('-----')\n",
    "            print (node_id)\n",
    "            print(parameters)\n",
    "\n",
    "            mygraph.add_node(node_id, 'Read', parameters, '')\n",
    "\n",
    "        read_nodes_list.append(read_nodes)\n",
    "\n",
    "        k = k + 1\n"
   ]
  },
  {
   "cell_type": "code",
   "execution_count": null,
   "metadata": {},
   "outputs": [],
   "source": [
    "mygraph.view_graph()"
   ]
  },
  {
   "cell_type": "markdown",
   "metadata": {},
   "source": [
    "5.2. ThermalNoiseRemoval"
   ]
  },
  {
   "cell_type": "code",
   "execution_count": null,
   "metadata": {},
   "outputs": [],
   "source": [
    "operator = 'ThermalNoiseRemoval'\n",
    "\n",
    "parameters = dict()\n",
    "\n",
    "for param in get_snap_parameters(operator):\n",
    "    \n",
    "    print(param.getName(), param.getDefaultValue())\n",
    "    \n",
    "    parameters[param.getName()] = param.getDefaultValue()"
   ]
  },
  {
   "cell_type": "code",
   "execution_count": null,
   "metadata": {},
   "outputs": [],
   "source": [
    "slave_value = slave['value']\n",
    "\n",
    "if slave_value== 'True':\n",
    "    \n",
    "    index = 0\n",
    "    cor_nodes_list = []\n",
    "\n",
    "    for node in read_nodes_list:\n",
    "        cor_nodes = []\n",
    "\n",
    "        node_id = 'ThermalNoiseRemoval_%s' % index\n",
    "\n",
    "        source_nodes = read_nodes\n",
    "\n",
    "        mygraph.add_node(node_id, operator, parameters, node)\n",
    "\n",
    "        cor_nodes.append(node_id)\n",
    "\n",
    "        print(node_id)\n",
    "\n",
    "        print(node)\n",
    "\n",
    "        index = index + 1 \n",
    "\n",
    "        cor_nodes_list.append(cor_nodes)"
   ]
  },
  {
   "cell_type": "code",
   "execution_count": null,
   "metadata": {},
   "outputs": [],
   "source": [
    "mygraph.view_graph()"
   ]
  },
  {
   "cell_type": "markdown",
   "metadata": {},
   "source": [
    "##### 5.3. Calibration"
   ]
  },
  {
   "cell_type": "code",
   "execution_count": null,
   "metadata": {},
   "outputs": [],
   "source": [
    "operator = 'Calibration'\n",
    "\n",
    "parameters = dict()\n",
    "\n",
    "for param in get_snap_parameters(operator):\n",
    "    \n",
    "    print(param.getName(), param.getDefaultValue())\n",
    "    \n",
    "    if param.getName() == 'outputSigmaBand':\n",
    "        parameters[param.getName()] = 'true'\n",
    "    elif param.getName() == 'outputBetaBand':\n",
    "        parameters[param.getName()] = 'false'      \n",
    "    else:\n",
    "        parameters[param.getName()] = param.getDefaultValue()"
   ]
  },
  {
   "cell_type": "code",
   "execution_count": null,
   "metadata": {},
   "outputs": [],
   "source": [
    "slave_value = slave['value']\n",
    "\n",
    "if slave_value== 'True':\n",
    "    \n",
    "    index = 0\n",
    "    fil_nodes_list = []\n",
    "\n",
    "    for node in cor_nodes_list:\n",
    "        node_id = 'Calibration_%s' % index\n",
    "\n",
    "        fil_nodes = []\n",
    "\n",
    "        source_nodes = cor_nodes\n",
    "\n",
    "        mygraph.add_node(node_id, operator, parameters, node)\n",
    "\n",
    "        fil_nodes.append(node_id)\n",
    "\n",
    "        print(node_id)\n",
    "\n",
    "        print(node)\n",
    "\n",
    "        fil_nodes_list.append(fil_nodes)\n",
    "\n",
    "        index = index + 1"
   ]
  },
  {
   "cell_type": "code",
   "execution_count": null,
   "metadata": {},
   "outputs": [],
   "source": [
    "mygraph.view_graph()"
   ]
  },
  {
   "cell_type": "markdown",
   "metadata": {},
   "source": [
    "##### 5.4. TOPSAR-Deburst"
   ]
  },
  {
   "cell_type": "code",
   "execution_count": null,
   "metadata": {},
   "outputs": [],
   "source": [
    "operator = 'TOPSAR-Deburst'\n",
    "\n",
    "parameters = dict()\n",
    "\n",
    "for param in get_snap_parameters(operator):\n",
    "    \n",
    "    print(param.getName(), param.getDefaultValue())\n",
    "    parameters[param.getName()] = param.getDefaultValue()"
   ]
  },
  {
   "cell_type": "code",
   "execution_count": null,
   "metadata": {},
   "outputs": [],
   "source": [
    "slave_value = slave['value']\n",
    "\n",
    "if slave_value== 'True':\n",
    "    \n",
    "    index = 0\n",
    "    deb_nodes_list = []\n",
    "\n",
    "    for node in fil_nodes_list:\n",
    "\n",
    "        node_id = 'TOPSAR-Deburst_%s' % index\n",
    "\n",
    "        deb_nodes = []\n",
    "\n",
    "        source_node = deb_nodes\n",
    "\n",
    "        mygraph.add_node(node_id, operator, parameters, node)\n",
    "\n",
    "        deb_nodes.append(node_id)\n",
    "\n",
    "        print(node_id)\n",
    "\n",
    "        print(node)\n",
    "\n",
    "        deb_nodes_list.append(deb_nodes)\n",
    "\n",
    "        index = index + 1"
   ]
  },
  {
   "cell_type": "code",
   "execution_count": null,
   "metadata": {},
   "outputs": [],
   "source": [
    "mygraph.view_graph()"
   ]
  },
  {
   "cell_type": "markdown",
   "metadata": {},
   "source": [
    "##### 5.5. TOPSAR-Merge"
   ]
  },
  {
   "cell_type": "code",
   "execution_count": null,
   "metadata": {},
   "outputs": [],
   "source": [
    "operator = 'TOPSAR-Merge'\n",
    "\n",
    "parameters = dict()\n",
    "\n",
    "for param in get_snap_parameters(operator):\n",
    "    \n",
    "    print(param.getName(), param.getDefaultValue())\n",
    "    parameters[param.getName()] = param.getDefaultValue()"
   ]
  },
  {
   "cell_type": "code",
   "execution_count": null,
   "metadata": {},
   "outputs": [],
   "source": [
    "slave_value = slave['value']\n",
    "\n",
    "if slave_value== 'True':\n",
    "    \n",
    "    merge_nodes = []\n",
    "\n",
    "    node_id = 'TOPSAR-Merge(%s)' % str(0)\n",
    "\n",
    "    source_nodes = []\n",
    "\n",
    "    for index, deb_node in enumerate(deb_nodes_list):\n",
    "\n",
    "        source_nodes.append(deb_node[0])\n",
    "\n",
    "    mygraph.add_node(node_id, operator, parameters, source_nodes)\n",
    "\n",
    "    merge_node = node_id\n",
    "\n",
    "    print(node_id)\n",
    "\n",
    "    print(source_nodes)"
   ]
  },
  {
   "cell_type": "code",
   "execution_count": null,
   "metadata": {},
   "outputs": [],
   "source": [
    "mygraph.view_graph()"
   ]
  },
  {
   "cell_type": "markdown",
   "metadata": {},
   "source": [
    "##### 5.6. Multilook"
   ]
  },
  {
   "cell_type": "code",
   "execution_count": null,
   "metadata": {},
   "outputs": [],
   "source": [
    "operator = 'Multilook'\n",
    "\n",
    "parameters = dict()\n",
    "\n",
    "for param in get_snap_parameters(operator):\n",
    "    \n",
    "    print(param.getName(), param.getDefaultValue())\n",
    "    \n",
    "    if param.getName() == 'nRgLooks':\n",
    "        parameters[param.getName()] = '4'\n",
    "    elif param.getName() == 'outputIntensity':\n",
    "        parameters[param.getName()] = 'false'\n",
    "    else:\n",
    "        parameters[param.getName()] = param.getDefaultValue()"
   ]
  },
  {
   "cell_type": "code",
   "execution_count": null,
   "metadata": {},
   "outputs": [],
   "source": [
    "slave_value = slave['value']\n",
    "\n",
    "if slave_value== 'True':\n",
    "    \n",
    "    index = 0\n",
    "\n",
    "    node_id = 'Multilook_%s' % index\n",
    "\n",
    "    source_node = merge_node\n",
    "\n",
    "    mygraph.add_node(node_id, operator, parameters, source_node)\n",
    "\n",
    "    ml_node = node_id\n",
    "\n",
    "    print(node_id)\n",
    "\n",
    "    print(source_node)"
   ]
  },
  {
   "cell_type": "code",
   "execution_count": null,
   "metadata": {},
   "outputs": [],
   "source": [
    "mygraph.view_graph()"
   ]
  },
  {
   "cell_type": "markdown",
   "metadata": {},
   "source": [
    "##### 5.7. Terrain-Correction"
   ]
  },
  {
   "cell_type": "code",
   "execution_count": null,
   "metadata": {},
   "outputs": [],
   "source": [
    "operator = 'Terrain-Correction'\n",
    "\n",
    "parameters = dict()\n",
    "\n",
    "for param in get_snap_parameters(operator):\n",
    "    \n",
    "    print(param.getName(), param.getDefaultValue())\n",
    "    \n",
    "    parameters[param.getName()] = param.getDefaultValue()\n"
   ]
  },
  {
   "cell_type": "code",
   "execution_count": null,
   "metadata": {},
   "outputs": [],
   "source": [
    "slave_value = slave['value']\n",
    "\n",
    "if slave_value== 'True':\n",
    "\n",
    "    index = 0\n",
    "\n",
    "    node_id = 'Terrain-Correction'\n",
    "\n",
    "    source_nodes = ml_node\n",
    "\n",
    "    mygraph.add_node(node_id, operator, parameters, source_nodes)\n",
    "\n",
    "    terrain_node = node_id\n",
    "\n",
    "    print(node_id)\n",
    "\n",
    "    print(source_nodes)\n"
   ]
  },
  {
   "cell_type": "code",
   "execution_count": null,
   "metadata": {},
   "outputs": [],
   "source": [
    "mygraph.view_graph()"
   ]
  },
  {
   "cell_type": "markdown",
   "metadata": {},
   "source": [
    "##### 5.8. Write"
   ]
  },
  {
   "cell_type": "code",
   "execution_count": null,
   "metadata": {},
   "outputs": [],
   "source": [
    "slave_value = slave['value']\n",
    "\n",
    "if slave_value== 'True':\n",
    "    \n",
    "    operator = 'Write'\n",
    "\n",
    "    output_name = os.path.join(temp_folder, 'temp_slave_intensity')\n",
    "\n",
    "    parameters = dict()\n",
    "\n",
    "    for param in get_snap_parameters(operator):\n",
    "\n",
    "        if param.getName() == 'file':\n",
    "\n",
    "            param_value = output_name\n",
    "\n",
    "        elif param.getName() == 'formatName':\n",
    "\n",
    "            param_value = 'BEAM-DIMAP'\n",
    "\n",
    "        else:\n",
    "\n",
    "            param_value = param.getDefaultValue()\n",
    "\n",
    "\n",
    "        print (param.getName(), param_value)\n",
    "\n",
    "        parameters[param.getName()] = param_value"
   ]
  },
  {
   "cell_type": "code",
   "execution_count": null,
   "metadata": {},
   "outputs": [],
   "source": [
    "slave_value = slave['value']\n",
    "\n",
    "if slave_value== 'True':\n",
    "    \n",
    "    mygraph.add_node(operator, \n",
    "                 operator, \n",
    "                 parameters,\n",
    "                 terrain_node)"
   ]
  },
  {
   "cell_type": "code",
   "execution_count": null,
   "metadata": {},
   "outputs": [],
   "source": [
    "mygraph.view_graph() "
   ]
  },
  {
   "cell_type": "code",
   "execution_count": null,
   "metadata": {},
   "outputs": [],
   "source": [
    "mygraph.run()"
   ]
  },
  {
   "cell_type": "markdown",
   "metadata": {},
   "source": [
    "#### Write result in GeoTIFF"
   ]
  },
  {
   "cell_type": "code",
   "execution_count": null,
   "metadata": {},
   "outputs": [],
   "source": [
    "output_name = 'intensity_slave'\n",
    "\n",
    "reader = ProductIO.getProductReader(\"BEAM-DIMAP\")\n",
    "\n",
    "b0ch = reader.readProductNodes(output_name + '.dim', None)"
   ]
  },
  {
   "cell_type": "code",
   "execution_count": null,
   "metadata": {},
   "outputs": [],
   "source": [
    "temp_tif_name = os.path.join(temp_folder, output_name + '.tif')\n",
    "\n",
    "ProductIO.writeProduct(b0ch, \n",
    "                       temp_tif_name,\n",
    "                       'GeoTIFF-BigTiff')"
   ]
  },
  {
   "cell_type": "code",
   "execution_count": null,
   "metadata": {},
   "outputs": [],
   "source": [
    "crop_image(temp_tif_name,regionOfInterest['value'], output_path)"
   ]
  },
  {
   "cell_type": "markdown",
   "metadata": {},
   "source": [
    "#### Clean-up"
   ]
  },
  {
   "cell_type": "code",
   "execution_count": null,
   "metadata": {},
   "outputs": [],
   "source": [
    "shutil.rmtree(temp_folder)\n",
    "\n",
    "shutil.rmtree(output_name + '.data')\n",
    "os.remove(output_name + '.dim')"
   ]
  },
  {
   "cell_type": "markdown",
   "metadata": {
    "slideshow": {
     "slide_type": "slide"
    }
   },
   "source": [
    "### <a name=\"License\"> License"
   ]
  },
  {
   "cell_type": "markdown",
   "metadata": {
    "slideshow": {
     "slide_type": "subslide"
    }
   },
   "source": [
    "This work is licenced under a [Attribution-ShareAlike 4.0 International License (CC BY-SA 4.0)](http://creativecommons.org/licenses/by-sa/4.0/) \n",
    "\n",
    "YOU ARE FREE TO:\n",
    "\n",
    "* Share - copy and redistribute the material in any medium or format.\n",
    "* Adapt - remix, transform, and built upon the material for any purpose, even commercially.\n",
    "\n",
    "UNDER THE FOLLOWING TERMS:\n",
    "\n",
    "* Attribution - You must give appropriate credit, provide a link to the license, and indicate if changes were made. You may do so in any reasonable manner, but not in any way that suggests the licensor endorses you or your use.\n",
    "* ShareAlike - If you remix, transform, or build upon the material, you must distribute your contributions under the same license as the original."
   ]
  }
 ],
 "metadata": {
  "kernelspec": {
   "display_name": "Python 2",
   "language": "python",
   "name": "python2"
  },
  "language_info": {
   "codemirror_mode": {
    "name": "ipython",
    "version": 2
   },
   "file_extension": ".py",
   "mimetype": "text/x-python",
   "name": "python",
   "nbconvert_exporter": "python",
   "pygments_lexer": "ipython2",
   "version": "2.7.13"
  }
 },
 "nbformat": 4,
 "nbformat_minor": 2
}
